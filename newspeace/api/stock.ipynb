{
 "cells": [
  {
   "cell_type": "code",
   "execution_count": 2,
   "metadata": {},
   "outputs": [
    {
     "name": "stdout",
     "output_type": "stream",
     "text": [
      "Collecting selenium\n",
      "  Downloading selenium-4.16.0-py3-none-any.whl.metadata (6.9 kB)\n",
      "Requirement already satisfied: urllib3<3,>=1.26 in c:\\users\\user\\anaconda3\\envs\\bigproject\\lib\\site-packages (from urllib3[socks]<3,>=1.26->selenium) (2.1.0)\n",
      "Collecting trio~=0.17 (from selenium)\n",
      "  Downloading trio-0.23.2-py3-none-any.whl.metadata (4.9 kB)\n",
      "Collecting trio-websocket~=0.9 (from selenium)\n",
      "  Downloading trio_websocket-0.11.1-py3-none-any.whl.metadata (4.7 kB)\n",
      "Requirement already satisfied: certifi>=2021.10.8 in c:\\users\\user\\anaconda3\\envs\\bigproject\\lib\\site-packages (from selenium) (2023.11.17)\n",
      "Collecting attrs>=20.1.0 (from trio~=0.17->selenium)\n",
      "  Downloading attrs-23.1.0-py3-none-any.whl (61 kB)\n",
      "     ---------------------------------------- 0.0/61.2 kB ? eta -:--:--\n",
      "     --------------------------------- ------ 51.2/61.2 kB 1.3 MB/s eta 0:00:01\n",
      "     ---------------------------------------- 61.2/61.2 kB 1.6 MB/s eta 0:00:00\n",
      "Collecting sortedcontainers (from trio~=0.17->selenium)\n",
      "  Downloading sortedcontainers-2.4.0-py2.py3-none-any.whl (29 kB)\n",
      "Requirement already satisfied: idna in c:\\users\\user\\anaconda3\\envs\\bigproject\\lib\\site-packages (from trio~=0.17->selenium) (3.6)\n",
      "Collecting outcome (from trio~=0.17->selenium)\n",
      "  Downloading outcome-1.3.0.post0-py2.py3-none-any.whl.metadata (2.6 kB)\n",
      "Requirement already satisfied: sniffio>=1.3.0 in c:\\users\\user\\anaconda3\\envs\\bigproject\\lib\\site-packages (from trio~=0.17->selenium) (1.3.0)\n",
      "Collecting cffi>=1.14 (from trio~=0.17->selenium)\n",
      "  Downloading cffi-1.16.0-cp311-cp311-win_amd64.whl.metadata (1.5 kB)\n",
      "Collecting wsproto>=0.14 (from trio-websocket~=0.9->selenium)\n",
      "  Downloading wsproto-1.2.0-py3-none-any.whl (24 kB)\n",
      "Collecting pysocks!=1.5.7,<2.0,>=1.5.6 (from urllib3[socks]<3,>=1.26->selenium)\n",
      "  Downloading PySocks-1.7.1-py3-none-any.whl (16 kB)\n",
      "Collecting pycparser (from cffi>=1.14->trio~=0.17->selenium)\n",
      "  Downloading pycparser-2.21-py2.py3-none-any.whl (118 kB)\n",
      "     ---------------------------------------- 0.0/118.7 kB ? eta -:--:--\n",
      "     -------------------------------------- 118.7/118.7 kB 3.5 MB/s eta 0:00:00\n",
      "Requirement already satisfied: h11<1,>=0.9.0 in c:\\users\\user\\anaconda3\\envs\\bigproject\\lib\\site-packages (from wsproto>=0.14->trio-websocket~=0.9->selenium) (0.14.0)\n",
      "Downloading selenium-4.16.0-py3-none-any.whl (10.0 MB)\n",
      "   ---------------------------------------- 0.0/10.0 MB ? eta -:--:--\n",
      "    --------------------------------------- 0.2/10.0 MB 5.8 MB/s eta 0:00:02\n",
      "   - -------------------------------------- 0.5/10.0 MB 5.6 MB/s eta 0:00:02\n",
      "   --- ------------------------------------ 0.8/10.0 MB 6.1 MB/s eta 0:00:02\n",
      "   --- ------------------------------------ 1.0/10.0 MB 5.7 MB/s eta 0:00:02\n",
      "   ---- ----------------------------------- 1.2/10.0 MB 5.9 MB/s eta 0:00:02\n",
      "   ---- ----------------------------------- 1.2/10.0 MB 5.9 MB/s eta 0:00:02\n",
      "   ----- ---------------------------------- 1.3/10.0 MB 4.2 MB/s eta 0:00:03\n",
      "   ----- ---------------------------------- 1.4/10.0 MB 3.9 MB/s eta 0:00:03\n",
      "   ------ --------------------------------- 1.7/10.0 MB 4.1 MB/s eta 0:00:03\n",
      "   ------- -------------------------------- 1.9/10.0 MB 4.3 MB/s eta 0:00:02\n",
      "   -------- ------------------------------- 2.1/10.0 MB 4.4 MB/s eta 0:00:02\n",
      "   -------- ------------------------------- 2.1/10.0 MB 4.4 MB/s eta 0:00:02\n",
      "   -------- ------------------------------- 2.1/10.0 MB 4.4 MB/s eta 0:00:02\n",
      "   -------- ------------------------------- 2.1/10.0 MB 4.4 MB/s eta 0:00:02\n",
      "   -------- ------------------------------- 2.1/10.0 MB 4.4 MB/s eta 0:00:02\n",
      "   -------- ------------------------------- 2.1/10.0 MB 4.4 MB/s eta 0:00:02\n",
      "   --------- ------------------------------ 2.3/10.0 MB 2.9 MB/s eta 0:00:03\n",
      "   ---------- ----------------------------- 2.7/10.0 MB 3.3 MB/s eta 0:00:03\n",
      "   ------------ --------------------------- 3.2/10.0 MB 3.7 MB/s eta 0:00:02\n",
      "   -------------- ------------------------- 3.7/10.0 MB 4.0 MB/s eta 0:00:02\n",
      "   ---------------- ----------------------- 4.1/10.0 MB 4.2 MB/s eta 0:00:02\n",
      "   ----------------- ---------------------- 4.4/10.0 MB 4.3 MB/s eta 0:00:02\n",
      "   ------------------ --------------------- 4.6/10.0 MB 4.3 MB/s eta 0:00:02\n",
      "   ------------------- -------------------- 4.8/10.0 MB 4.4 MB/s eta 0:00:02\n",
      "   -------------------- ------------------- 5.1/10.0 MB 4.4 MB/s eta 0:00:02\n",
      "   --------------------- ------------------ 5.4/10.0 MB 4.5 MB/s eta 0:00:02\n",
      "   ---------------------- ----------------- 5.6/10.0 MB 4.5 MB/s eta 0:00:01\n",
      "   ----------------------- ---------------- 5.8/10.0 MB 4.5 MB/s eta 0:00:01\n",
      "   ------------------------ --------------- 6.1/10.0 MB 4.5 MB/s eta 0:00:01\n",
      "   ------------------------- -------------- 6.3/10.0 MB 4.5 MB/s eta 0:00:01\n",
      "   ------------------------- -------------- 6.4/10.0 MB 4.5 MB/s eta 0:00:01\n",
      "   -------------------------- ------------- 6.5/10.0 MB 4.4 MB/s eta 0:00:01\n",
      "   -------------------------- ------------- 6.6/10.0 MB 4.4 MB/s eta 0:00:01\n",
      "   -------------------------- ------------- 6.6/10.0 MB 4.4 MB/s eta 0:00:01\n",
      "   --------------------------- ------------ 6.8/10.0 MB 4.2 MB/s eta 0:00:01\n",
      "   --------------------------- ------------ 7.0/10.0 MB 4.2 MB/s eta 0:00:01\n",
      "   ----------------------------- ---------- 7.4/10.0 MB 4.3 MB/s eta 0:00:01\n",
      "   ------------------------------- -------- 8.0/10.0 MB 4.5 MB/s eta 0:00:01\n",
      "   --------------------------------- ------ 8.4/10.0 MB 4.6 MB/s eta 0:00:01\n",
      "   ---------------------------------- ----- 8.6/10.0 MB 4.7 MB/s eta 0:00:01\n",
      "   ----------------------------------- ---- 8.9/10.0 MB 4.7 MB/s eta 0:00:01\n",
      "   ------------------------------------ --- 9.1/10.0 MB 4.7 MB/s eta 0:00:01\n",
      "   ------------------------------------- -- 9.4/10.0 MB 4.7 MB/s eta 0:00:01\n",
      "   -------------------------------------- - 9.5/10.0 MB 4.7 MB/s eta 0:00:01\n",
      "   ---------------------------------------  9.8/10.0 MB 4.7 MB/s eta 0:00:01\n",
      "   ---------------------------------------  10.0/10.0 MB 4.7 MB/s eta 0:00:01\n",
      "   ---------------------------------------- 10.0/10.0 MB 4.6 MB/s eta 0:00:00\n",
      "Downloading trio-0.23.2-py3-none-any.whl (461 kB)\n",
      "   ---------------------------------------- 0.0/461.6 kB ? eta -:--:--\n",
      "   ------------ --------------------------- 143.4/461.6 kB ? eta -:--:--\n",
      "   ---------------------------------------- 461.6/461.6 kB 5.8 MB/s eta 0:00:00\n",
      "Downloading trio_websocket-0.11.1-py3-none-any.whl (17 kB)\n",
      "Downloading cffi-1.16.0-cp311-cp311-win_amd64.whl (181 kB)\n",
      "   ---------------------------------------- 0.0/181.5 kB ? eta -:--:--\n",
      "   ---------------------------------------- 181.5/181.5 kB 5.5 MB/s eta 0:00:00\n",
      "Downloading outcome-1.3.0.post0-py2.py3-none-any.whl (10 kB)\n",
      "Installing collected packages: sortedcontainers, wsproto, pysocks, pycparser, attrs, outcome, cffi, trio, trio-websocket, selenium\n",
      "Successfully installed attrs-23.1.0 cffi-1.16.0 outcome-1.3.0.post0 pycparser-2.21 pysocks-1.7.1 selenium-4.16.0 sortedcontainers-2.4.0 trio-0.23.2 trio-websocket-0.11.1 wsproto-1.2.0\n"
     ]
    }
   ],
   "source": [
    "!pip install selenium"
   ]
  },
  {
   "cell_type": "code",
   "execution_count": 1,
   "metadata": {},
   "outputs": [],
   "source": [
    "import pandas as pd\n",
    "from selenium import webdriver\n",
    "from selenium.webdriver.common.by import By\n",
    "\n",
    "browser = webdriver.Chrome()"
   ]
  },
  {
   "cell_type": "code",
   "execution_count": 2,
   "metadata": {},
   "outputs": [
    {
     "name": "stdout",
     "output_type": "stream",
     "text": [
      " C ����̺��� ����: WINDOWS\n",
      " ���� �Ϸ� ��ȣ: 1CE2-C115\n",
      "\n",
      " c:\\Newspeace-BE\\newspeace\\api ���͸�\n",
      "\n",
      "2023-11-14  ���� 08:28        17,046,528 chromedriver.exe\n",
      "               1�� ����          17,046,528 ����Ʈ\n",
      "               0�� ���͸�  134,997,651,456 ����Ʈ ����\n"
     ]
    }
   ],
   "source": [
    "%ls chromedriver.exe"
   ]
  },
  {
   "cell_type": "code",
   "execution_count": 3,
   "metadata": {},
   "outputs": [],
   "source": [
    "# 1. 페이지 이동\n",
    "url = 'https://finance.naver.com/sise/sise_market_sum.naver?&page='\n",
    "browser.get(url)"
   ]
  },
  {
   "cell_type": "code",
   "execution_count": 4,
   "metadata": {},
   "outputs": [],
   "source": [
    "# 2. 조회 항목 초기화 (체크되어 있는 항목 체크 해제)\n",
    "checkboxes = browser.find_elements(By.NAME, 'fieldIds')\n",
    "for checkbox in checkboxes:\n",
    "    if checkbox.is_selected(): # 체크된 상태라면?\n",
    "        checkbox.click() # 클릭 (체크 해제)"
   ]
  },
  {
   "cell_type": "code",
   "execution_count": 5,
   "metadata": {},
   "outputs": [],
   "source": [
    "items_to_select = ['거래량', '전일거래량', 'PER', 'PBR', '외국인비율']"
   ]
  },
  {
   "cell_type": "code",
   "execution_count": 6,
   "metadata": {},
   "outputs": [],
   "source": [
    "for checkbox in checkboxes:\n",
    "    parent = checkbox.find_element(By.XPATH, '..') # 부모 element\n",
    "    label = parent.find_element(By.TAG_NAME, 'label') # label element\n",
    "    # print(label.text) # 이름 확인\n",
    "    if label.text in items_to_select: # 선택 항목과 일치한다면\n",
    "        checkbox.click() # 체크"
   ]
  },
  {
   "cell_type": "code",
   "execution_count": 7,
   "metadata": {},
   "outputs": [],
   "source": [
    "# 4. 적용하기 클릭\n",
    "btn_apply = browser.find_element(By.XPATH, '//a[@href=\"javascript:fieldSubmit()\"]')\n",
    "btn_apply.click()"
   ]
  },
  {
   "cell_type": "code",
   "execution_count": 8,
   "metadata": {},
   "outputs": [
    {
     "name": "stderr",
     "output_type": "stream",
     "text": [
      "C:\\Users\\user\\AppData\\Local\\Temp\\ipykernel_25580\\2378255056.py:4: FutureWarning: Passing literal html to 'read_html' is deprecated and will be removed in a future version. To read from a literal string, wrap it in a 'StringIO' object.\n",
      "  df = pd.read_html(browser.page_source)\n"
     ]
    }
   ],
   "source": [
    "import pandas as pd\n",
    "\n",
    "# 5. 데이터 추출\n",
    "df = pd.read_html(browser.page_source)"
   ]
  },
  {
   "cell_type": "code",
   "execution_count": 9,
   "metadata": {},
   "outputs": [
    {
     "name": "stderr",
     "output_type": "stream",
     "text": [
      "C:\\Users\\user\\AppData\\Local\\Temp\\ipykernel_25580\\2825798011.py:1: FutureWarning: Passing literal html to 'read_html' is deprecated and will be removed in a future version. To read from a literal string, wrap it in a 'StringIO' object.\n",
      "  df = pd.read_html(browser.page_source)[1]\n"
     ]
    }
   ],
   "source": [
    "df = pd.read_html(browser.page_source)[1]"
   ]
  },
  {
   "cell_type": "code",
   "execution_count": 10,
   "metadata": {},
   "outputs": [
    {
     "data": {
      "text/html": [
       "<div>\n",
       "<style scoped>\n",
       "    .dataframe tbody tr th:only-of-type {\n",
       "        vertical-align: middle;\n",
       "    }\n",
       "\n",
       "    .dataframe tbody tr th {\n",
       "        vertical-align: top;\n",
       "    }\n",
       "\n",
       "    .dataframe thead th {\n",
       "        text-align: right;\n",
       "    }\n",
       "</style>\n",
       "<table border=\"1\" class=\"dataframe\">\n",
       "  <thead>\n",
       "    <tr style=\"text-align: right;\">\n",
       "      <th></th>\n",
       "      <th>N</th>\n",
       "      <th>종목명</th>\n",
       "      <th>현재가</th>\n",
       "      <th>전일비</th>\n",
       "      <th>등락률</th>\n",
       "      <th>액면가</th>\n",
       "      <th>거래량</th>\n",
       "      <th>전일거래량</th>\n",
       "      <th>외국인비율</th>\n",
       "      <th>PER</th>\n",
       "      <th>PBR</th>\n",
       "      <th>토론실</th>\n",
       "      <th>Unnamed: 12</th>\n",
       "    </tr>\n",
       "  </thead>\n",
       "  <tbody>\n",
       "    <tr>\n",
       "      <th>0</th>\n",
       "      <td>NaN</td>\n",
       "      <td>NaN</td>\n",
       "      <td>NaN</td>\n",
       "      <td>NaN</td>\n",
       "      <td>NaN</td>\n",
       "      <td>NaN</td>\n",
       "      <td>NaN</td>\n",
       "      <td>NaN</td>\n",
       "      <td>NaN</td>\n",
       "      <td>NaN</td>\n",
       "      <td>NaN</td>\n",
       "      <td>NaN</td>\n",
       "      <td>NaN</td>\n",
       "    </tr>\n",
       "    <tr>\n",
       "      <th>1</th>\n",
       "      <td>1.0</td>\n",
       "      <td>삼성전자</td>\n",
       "      <td>77800.0</td>\n",
       "      <td>1200.0</td>\n",
       "      <td>+1.57%</td>\n",
       "      <td>100.0</td>\n",
       "      <td>18169410.0</td>\n",
       "      <td>13164909.0</td>\n",
       "      <td>53.91</td>\n",
       "      <td>16.54</td>\n",
       "      <td>1.49</td>\n",
       "      <td>NaN</td>\n",
       "      <td>NaN</td>\n",
       "    </tr>\n",
       "    <tr>\n",
       "      <th>2</th>\n",
       "      <td>2.0</td>\n",
       "      <td>SK하이닉스</td>\n",
       "      <td>139900.0</td>\n",
       "      <td>1000.0</td>\n",
       "      <td>-0.71%</td>\n",
       "      <td>5000.0</td>\n",
       "      <td>1965409.0</td>\n",
       "      <td>2239789.0</td>\n",
       "      <td>53.11</td>\n",
       "      <td>-8.87</td>\n",
       "      <td>1.74</td>\n",
       "      <td>NaN</td>\n",
       "      <td>NaN</td>\n",
       "    </tr>\n",
       "    <tr>\n",
       "      <th>3</th>\n",
       "      <td>3.0</td>\n",
       "      <td>LG에너지솔루션</td>\n",
       "      <td>419500.0</td>\n",
       "      <td>4000.0</td>\n",
       "      <td>+0.96%</td>\n",
       "      <td>500.0</td>\n",
       "      <td>105470.0</td>\n",
       "      <td>150973.0</td>\n",
       "      <td>4.63</td>\n",
       "      <td>64.52</td>\n",
       "      <td>4.79</td>\n",
       "      <td>NaN</td>\n",
       "      <td>NaN</td>\n",
       "    </tr>\n",
       "    <tr>\n",
       "      <th>4</th>\n",
       "      <td>4.0</td>\n",
       "      <td>삼성바이오로직스</td>\n",
       "      <td>728000.0</td>\n",
       "      <td>6000.0</td>\n",
       "      <td>+0.83%</td>\n",
       "      <td>2500.0</td>\n",
       "      <td>43798.0</td>\n",
       "      <td>53109.0</td>\n",
       "      <td>10.39</td>\n",
       "      <td>55.30</td>\n",
       "      <td>5.43</td>\n",
       "      <td>NaN</td>\n",
       "      <td>NaN</td>\n",
       "    </tr>\n",
       "    <tr>\n",
       "      <th>5</th>\n",
       "      <td>5.0</td>\n",
       "      <td>삼성전자우</td>\n",
       "      <td>61700.0</td>\n",
       "      <td>800.0</td>\n",
       "      <td>+1.31%</td>\n",
       "      <td>100.0</td>\n",
       "      <td>1282663.0</td>\n",
       "      <td>1672282.0</td>\n",
       "      <td>72.91</td>\n",
       "      <td>13.12</td>\n",
       "      <td>1.18</td>\n",
       "      <td>NaN</td>\n",
       "      <td>NaN</td>\n",
       "    </tr>\n",
       "    <tr>\n",
       "      <th>6</th>\n",
       "      <td>NaN</td>\n",
       "      <td>NaN</td>\n",
       "      <td>NaN</td>\n",
       "      <td>NaN</td>\n",
       "      <td>NaN</td>\n",
       "      <td>NaN</td>\n",
       "      <td>NaN</td>\n",
       "      <td>NaN</td>\n",
       "      <td>NaN</td>\n",
       "      <td>NaN</td>\n",
       "      <td>NaN</td>\n",
       "      <td>NaN</td>\n",
       "      <td>NaN</td>\n",
       "    </tr>\n",
       "    <tr>\n",
       "      <th>7</th>\n",
       "      <td>NaN</td>\n",
       "      <td>NaN</td>\n",
       "      <td>NaN</td>\n",
       "      <td>NaN</td>\n",
       "      <td>NaN</td>\n",
       "      <td>NaN</td>\n",
       "      <td>NaN</td>\n",
       "      <td>NaN</td>\n",
       "      <td>NaN</td>\n",
       "      <td>NaN</td>\n",
       "      <td>NaN</td>\n",
       "      <td>NaN</td>\n",
       "      <td>NaN</td>\n",
       "    </tr>\n",
       "    <tr>\n",
       "      <th>8</th>\n",
       "      <td>NaN</td>\n",
       "      <td>NaN</td>\n",
       "      <td>NaN</td>\n",
       "      <td>NaN</td>\n",
       "      <td>NaN</td>\n",
       "      <td>NaN</td>\n",
       "      <td>NaN</td>\n",
       "      <td>NaN</td>\n",
       "      <td>NaN</td>\n",
       "      <td>NaN</td>\n",
       "      <td>NaN</td>\n",
       "      <td>NaN</td>\n",
       "      <td>NaN</td>\n",
       "    </tr>\n",
       "    <tr>\n",
       "      <th>9</th>\n",
       "      <td>6.0</td>\n",
       "      <td>현대차</td>\n",
       "      <td>198000.0</td>\n",
       "      <td>800.0</td>\n",
       "      <td>-0.40%</td>\n",
       "      <td>5000.0</td>\n",
       "      <td>262533.0</td>\n",
       "      <td>409928.0</td>\n",
       "      <td>33.41</td>\n",
       "      <td>4.76</td>\n",
       "      <td>0.56</td>\n",
       "      <td>NaN</td>\n",
       "      <td>NaN</td>\n",
       "    </tr>\n",
       "  </tbody>\n",
       "</table>\n",
       "</div>"
      ],
      "text/plain": [
       "     N       종목명       현재가     전일비     등락률     액면가         거래량       전일거래량  \\\n",
       "0  NaN       NaN       NaN     NaN     NaN     NaN         NaN         NaN   \n",
       "1  1.0      삼성전자   77800.0  1200.0  +1.57%   100.0  18169410.0  13164909.0   \n",
       "2  2.0    SK하이닉스  139900.0  1000.0  -0.71%  5000.0   1965409.0   2239789.0   \n",
       "3  3.0  LG에너지솔루션  419500.0  4000.0  +0.96%   500.0    105470.0    150973.0   \n",
       "4  4.0  삼성바이오로직스  728000.0  6000.0  +0.83%  2500.0     43798.0     53109.0   \n",
       "5  5.0     삼성전자우   61700.0   800.0  +1.31%   100.0   1282663.0   1672282.0   \n",
       "6  NaN       NaN       NaN     NaN     NaN     NaN         NaN         NaN   \n",
       "7  NaN       NaN       NaN     NaN     NaN     NaN         NaN         NaN   \n",
       "8  NaN       NaN       NaN     NaN     NaN     NaN         NaN         NaN   \n",
       "9  6.0       현대차  198000.0   800.0  -0.40%  5000.0    262533.0    409928.0   \n",
       "\n",
       "   외국인비율    PER   PBR  토론실  Unnamed: 12  \n",
       "0    NaN    NaN   NaN  NaN          NaN  \n",
       "1  53.91  16.54  1.49  NaN          NaN  \n",
       "2  53.11  -8.87  1.74  NaN          NaN  \n",
       "3   4.63  64.52  4.79  NaN          NaN  \n",
       "4  10.39  55.30  5.43  NaN          NaN  \n",
       "5  72.91  13.12  1.18  NaN          NaN  \n",
       "6    NaN    NaN   NaN  NaN          NaN  \n",
       "7    NaN    NaN   NaN  NaN          NaN  \n",
       "8    NaN    NaN   NaN  NaN          NaN  \n",
       "9  33.41   4.76  0.56  NaN          NaN  "
      ]
     },
     "execution_count": 10,
     "metadata": {},
     "output_type": "execute_result"
    }
   ],
   "source": [
    "df.head(10)"
   ]
  },
  {
   "cell_type": "code",
   "execution_count": 11,
   "metadata": {},
   "outputs": [],
   "source": [
    "df.dropna(axis='index', how='all', inplace=True)\n",
    "df.dropna(axis='columns', how='all', inplace=True)"
   ]
  },
  {
   "cell_type": "code",
   "execution_count": 12,
   "metadata": {},
   "outputs": [
    {
     "data": {
      "text/html": [
       "<div>\n",
       "<style scoped>\n",
       "    .dataframe tbody tr th:only-of-type {\n",
       "        vertical-align: middle;\n",
       "    }\n",
       "\n",
       "    .dataframe tbody tr th {\n",
       "        vertical-align: top;\n",
       "    }\n",
       "\n",
       "    .dataframe thead th {\n",
       "        text-align: right;\n",
       "    }\n",
       "</style>\n",
       "<table border=\"1\" class=\"dataframe\">\n",
       "  <thead>\n",
       "    <tr style=\"text-align: right;\">\n",
       "      <th></th>\n",
       "      <th>N</th>\n",
       "      <th>종목명</th>\n",
       "      <th>현재가</th>\n",
       "      <th>전일비</th>\n",
       "      <th>등락률</th>\n",
       "      <th>액면가</th>\n",
       "      <th>거래량</th>\n",
       "      <th>전일거래량</th>\n",
       "      <th>외국인비율</th>\n",
       "      <th>PER</th>\n",
       "      <th>PBR</th>\n",
       "    </tr>\n",
       "  </thead>\n",
       "  <tbody>\n",
       "    <tr>\n",
       "      <th>1</th>\n",
       "      <td>1.0</td>\n",
       "      <td>삼성전자</td>\n",
       "      <td>77800.0</td>\n",
       "      <td>1200.0</td>\n",
       "      <td>+1.57%</td>\n",
       "      <td>100.0</td>\n",
       "      <td>18169410.0</td>\n",
       "      <td>13164909.0</td>\n",
       "      <td>53.91</td>\n",
       "      <td>16.54</td>\n",
       "      <td>1.49</td>\n",
       "    </tr>\n",
       "    <tr>\n",
       "      <th>2</th>\n",
       "      <td>2.0</td>\n",
       "      <td>SK하이닉스</td>\n",
       "      <td>139900.0</td>\n",
       "      <td>1000.0</td>\n",
       "      <td>-0.71%</td>\n",
       "      <td>5000.0</td>\n",
       "      <td>1965409.0</td>\n",
       "      <td>2239789.0</td>\n",
       "      <td>53.11</td>\n",
       "      <td>-8.87</td>\n",
       "      <td>1.74</td>\n",
       "    </tr>\n",
       "    <tr>\n",
       "      <th>3</th>\n",
       "      <td>3.0</td>\n",
       "      <td>LG에너지솔루션</td>\n",
       "      <td>419500.0</td>\n",
       "      <td>4000.0</td>\n",
       "      <td>+0.96%</td>\n",
       "      <td>500.0</td>\n",
       "      <td>105470.0</td>\n",
       "      <td>150973.0</td>\n",
       "      <td>4.63</td>\n",
       "      <td>64.52</td>\n",
       "      <td>4.79</td>\n",
       "    </tr>\n",
       "    <tr>\n",
       "      <th>4</th>\n",
       "      <td>4.0</td>\n",
       "      <td>삼성바이오로직스</td>\n",
       "      <td>728000.0</td>\n",
       "      <td>6000.0</td>\n",
       "      <td>+0.83%</td>\n",
       "      <td>2500.0</td>\n",
       "      <td>43798.0</td>\n",
       "      <td>53109.0</td>\n",
       "      <td>10.39</td>\n",
       "      <td>55.30</td>\n",
       "      <td>5.43</td>\n",
       "    </tr>\n",
       "    <tr>\n",
       "      <th>5</th>\n",
       "      <td>5.0</td>\n",
       "      <td>삼성전자우</td>\n",
       "      <td>61700.0</td>\n",
       "      <td>800.0</td>\n",
       "      <td>+1.31%</td>\n",
       "      <td>100.0</td>\n",
       "      <td>1282663.0</td>\n",
       "      <td>1672282.0</td>\n",
       "      <td>72.91</td>\n",
       "      <td>13.12</td>\n",
       "      <td>1.18</td>\n",
       "    </tr>\n",
       "    <tr>\n",
       "      <th>9</th>\n",
       "      <td>6.0</td>\n",
       "      <td>현대차</td>\n",
       "      <td>198000.0</td>\n",
       "      <td>800.0</td>\n",
       "      <td>-0.40%</td>\n",
       "      <td>5000.0</td>\n",
       "      <td>262533.0</td>\n",
       "      <td>409928.0</td>\n",
       "      <td>33.41</td>\n",
       "      <td>4.76</td>\n",
       "      <td>0.56</td>\n",
       "    </tr>\n",
       "    <tr>\n",
       "      <th>10</th>\n",
       "      <td>7.0</td>\n",
       "      <td>POSCO홀딩스</td>\n",
       "      <td>489000.0</td>\n",
       "      <td>15500.0</td>\n",
       "      <td>+3.27%</td>\n",
       "      <td>5000.0</td>\n",
       "      <td>1276608.0</td>\n",
       "      <td>744558.0</td>\n",
       "      <td>27.11</td>\n",
       "      <td>33.39</td>\n",
       "      <td>0.68</td>\n",
       "    </tr>\n",
       "    <tr>\n",
       "      <th>11</th>\n",
       "      <td>8.0</td>\n",
       "      <td>기아</td>\n",
       "      <td>96700.0</td>\n",
       "      <td>400.0</td>\n",
       "      <td>+0.42%</td>\n",
       "      <td>5000.0</td>\n",
       "      <td>835883.0</td>\n",
       "      <td>1043738.0</td>\n",
       "      <td>39.25</td>\n",
       "      <td>4.25</td>\n",
       "      <td>0.84</td>\n",
       "    </tr>\n",
       "    <tr>\n",
       "      <th>12</th>\n",
       "      <td>9.0</td>\n",
       "      <td>NAVER</td>\n",
       "      <td>222500.0</td>\n",
       "      <td>7000.0</td>\n",
       "      <td>+3.25%</td>\n",
       "      <td>100.0</td>\n",
       "      <td>498703.0</td>\n",
       "      <td>458545.0</td>\n",
       "      <td>48.17</td>\n",
       "      <td>43.08</td>\n",
       "      <td>1.47</td>\n",
       "    </tr>\n",
       "    <tr>\n",
       "      <th>13</th>\n",
       "      <td>10.0</td>\n",
       "      <td>LG화학</td>\n",
       "      <td>483500.0</td>\n",
       "      <td>7000.0</td>\n",
       "      <td>-1.43%</td>\n",
       "      <td>5000.0</td>\n",
       "      <td>165739.0</td>\n",
       "      <td>160900.0</td>\n",
       "      <td>42.84</td>\n",
       "      <td>29.05</td>\n",
       "      <td>1.16</td>\n",
       "    </tr>\n",
       "  </tbody>\n",
       "</table>\n",
       "</div>"
      ],
      "text/plain": [
       "       N       종목명       현재가      전일비     등락률     액면가         거래량       전일거래량  \\\n",
       "1    1.0      삼성전자   77800.0   1200.0  +1.57%   100.0  18169410.0  13164909.0   \n",
       "2    2.0    SK하이닉스  139900.0   1000.0  -0.71%  5000.0   1965409.0   2239789.0   \n",
       "3    3.0  LG에너지솔루션  419500.0   4000.0  +0.96%   500.0    105470.0    150973.0   \n",
       "4    4.0  삼성바이오로직스  728000.0   6000.0  +0.83%  2500.0     43798.0     53109.0   \n",
       "5    5.0     삼성전자우   61700.0    800.0  +1.31%   100.0   1282663.0   1672282.0   \n",
       "9    6.0       현대차  198000.0    800.0  -0.40%  5000.0    262533.0    409928.0   \n",
       "10   7.0  POSCO홀딩스  489000.0  15500.0  +3.27%  5000.0   1276608.0    744558.0   \n",
       "11   8.0        기아   96700.0    400.0  +0.42%  5000.0    835883.0   1043738.0   \n",
       "12   9.0     NAVER  222500.0   7000.0  +3.25%   100.0    498703.0    458545.0   \n",
       "13  10.0      LG화학  483500.0   7000.0  -1.43%  5000.0    165739.0    160900.0   \n",
       "\n",
       "    외국인비율    PER   PBR  \n",
       "1   53.91  16.54  1.49  \n",
       "2   53.11  -8.87  1.74  \n",
       "3    4.63  64.52  4.79  \n",
       "4   10.39  55.30  5.43  \n",
       "5   72.91  13.12  1.18  \n",
       "9   33.41   4.76  0.56  \n",
       "10  27.11  33.39  0.68  \n",
       "11  39.25   4.25  0.84  \n",
       "12  48.17  43.08  1.47  \n",
       "13  42.84  29.05  1.16  "
      ]
     },
     "execution_count": 12,
     "metadata": {},
     "output_type": "execute_result"
    }
   ],
   "source": [
    "df.head(10)"
   ]
  },
  {
   "cell_type": "code",
   "execution_count": 17,
   "metadata": {},
   "outputs": [
    {
     "data": {
      "text/html": [
       "<div>\n",
       "<style scoped>\n",
       "    .dataframe tbody tr th:only-of-type {\n",
       "        vertical-align: middle;\n",
       "    }\n",
       "\n",
       "    .dataframe tbody tr th {\n",
       "        vertical-align: top;\n",
       "    }\n",
       "\n",
       "    .dataframe thead th {\n",
       "        text-align: right;\n",
       "    }\n",
       "</style>\n",
       "<table border=\"1\" class=\"dataframe\">\n",
       "  <thead>\n",
       "    <tr style=\"text-align: right;\">\n",
       "      <th></th>\n",
       "      <th>N</th>\n",
       "      <th>종목명</th>\n",
       "      <th>현재가</th>\n",
       "      <th>전일비</th>\n",
       "      <th>등락률</th>\n",
       "      <th>액면가</th>\n",
       "      <th>거래량</th>\n",
       "      <th>전일거래량</th>\n",
       "      <th>외국인비율</th>\n",
       "      <th>PER</th>\n",
       "      <th>PBR</th>\n",
       "    </tr>\n",
       "  </thead>\n",
       "  <tbody>\n",
       "    <tr>\n",
       "      <th>65</th>\n",
       "      <td>41.0</td>\n",
       "      <td>기업은행</td>\n",
       "      <td>11690.0</td>\n",
       "      <td>40.0</td>\n",
       "      <td>-0.34%</td>\n",
       "      <td>5000.0</td>\n",
       "      <td>1358296.0</td>\n",
       "      <td>3009235.0</td>\n",
       "      <td>14.14</td>\n",
       "      <td>3.25</td>\n",
       "      <td>0.28</td>\n",
       "    </tr>\n",
       "    <tr>\n",
       "      <th>66</th>\n",
       "      <td>42.0</td>\n",
       "      <td>크래프톤</td>\n",
       "      <td>186700.0</td>\n",
       "      <td>5500.0</td>\n",
       "      <td>+3.04%</td>\n",
       "      <td>100.0</td>\n",
       "      <td>79149.0</td>\n",
       "      <td>330425.0</td>\n",
       "      <td>33.11</td>\n",
       "      <td>20.62</td>\n",
       "      <td>1.54</td>\n",
       "    </tr>\n",
       "    <tr>\n",
       "      <th>67</th>\n",
       "      <td>43.0</td>\n",
       "      <td>대한항공</td>\n",
       "      <td>23400.0</td>\n",
       "      <td>600.0</td>\n",
       "      <td>-2.50%</td>\n",
       "      <td>5000.0</td>\n",
       "      <td>473713.0</td>\n",
       "      <td>1184309.0</td>\n",
       "      <td>16.35</td>\n",
       "      <td>6.41</td>\n",
       "      <td>0.89</td>\n",
       "    </tr>\n",
       "    <tr>\n",
       "      <th>68</th>\n",
       "      <td>44.0</td>\n",
       "      <td>KT</td>\n",
       "      <td>33350.0</td>\n",
       "      <td>2100.0</td>\n",
       "      <td>-5.92%</td>\n",
       "      <td>5000.0</td>\n",
       "      <td>1058404.0</td>\n",
       "      <td>1878921.0</td>\n",
       "      <td>42.69</td>\n",
       "      <td>7.26</td>\n",
       "      <td>0.49</td>\n",
       "    </tr>\n",
       "    <tr>\n",
       "      <th>69</th>\n",
       "      <td>45.0</td>\n",
       "      <td>HD한국조선해양</td>\n",
       "      <td>115600.0</td>\n",
       "      <td>1800.0</td>\n",
       "      <td>+1.58%</td>\n",
       "      <td>5000.0</td>\n",
       "      <td>69437.0</td>\n",
       "      <td>138762.0</td>\n",
       "      <td>25.95</td>\n",
       "      <td>54.40</td>\n",
       "      <td>0.81</td>\n",
       "    </tr>\n",
       "    <tr>\n",
       "      <th>73</th>\n",
       "      <td>46.0</td>\n",
       "      <td>아모레퍼시픽</td>\n",
       "      <td>137900.0</td>\n",
       "      <td>200.0</td>\n",
       "      <td>+0.15%</td>\n",
       "      <td>500.0</td>\n",
       "      <td>25033.0</td>\n",
       "      <td>86258.0</td>\n",
       "      <td>27.43</td>\n",
       "      <td>59.13</td>\n",
       "      <td>1.94</td>\n",
       "    </tr>\n",
       "    <tr>\n",
       "      <th>74</th>\n",
       "      <td>47.0</td>\n",
       "      <td>SK바이오팜</td>\n",
       "      <td>98500.0</td>\n",
       "      <td>1000.0</td>\n",
       "      <td>+1.03%</td>\n",
       "      <td>500.0</td>\n",
       "      <td>165352.0</td>\n",
       "      <td>280718.0</td>\n",
       "      <td>7.87</td>\n",
       "      <td>-92.40</td>\n",
       "      <td>27.01</td>\n",
       "    </tr>\n",
       "    <tr>\n",
       "      <th>75</th>\n",
       "      <td>48.0</td>\n",
       "      <td>S-Oil</td>\n",
       "      <td>68400.0</td>\n",
       "      <td>2200.0</td>\n",
       "      <td>-3.12%</td>\n",
       "      <td>2500.0</td>\n",
       "      <td>215716.0</td>\n",
       "      <td>403881.0</td>\n",
       "      <td>76.91</td>\n",
       "      <td>7.84</td>\n",
       "      <td>0.89</td>\n",
       "    </tr>\n",
       "    <tr>\n",
       "      <th>76</th>\n",
       "      <td>49.0</td>\n",
       "      <td>한화오션</td>\n",
       "      <td>24650.0</td>\n",
       "      <td>50.0</td>\n",
       "      <td>+0.20%</td>\n",
       "      <td>5000.0</td>\n",
       "      <td>304858.0</td>\n",
       "      <td>793350.0</td>\n",
       "      <td>9.34</td>\n",
       "      <td>-7.67</td>\n",
       "      <td>2.37</td>\n",
       "    </tr>\n",
       "    <tr>\n",
       "      <th>77</th>\n",
       "      <td>50.0</td>\n",
       "      <td>현대글로비스</td>\n",
       "      <td>188000.0</td>\n",
       "      <td>800.0</td>\n",
       "      <td>-0.42%</td>\n",
       "      <td>500.0</td>\n",
       "      <td>47817.0</td>\n",
       "      <td>116746.0</td>\n",
       "      <td>48.21</td>\n",
       "      <td>6.01</td>\n",
       "      <td>0.93</td>\n",
       "    </tr>\n",
       "  </tbody>\n",
       "</table>\n",
       "</div>"
      ],
      "text/plain": [
       "       N       종목명       현재가     전일비     등락률     액면가        거래량      전일거래량  \\\n",
       "65  41.0      기업은행   11690.0    40.0  -0.34%  5000.0  1358296.0  3009235.0   \n",
       "66  42.0      크래프톤  186700.0  5500.0  +3.04%   100.0    79149.0   330425.0   \n",
       "67  43.0      대한항공   23400.0   600.0  -2.50%  5000.0   473713.0  1184309.0   \n",
       "68  44.0        KT   33350.0  2100.0  -5.92%  5000.0  1058404.0  1878921.0   \n",
       "69  45.0  HD한국조선해양  115600.0  1800.0  +1.58%  5000.0    69437.0   138762.0   \n",
       "73  46.0    아모레퍼시픽  137900.0   200.0  +0.15%   500.0    25033.0    86258.0   \n",
       "74  47.0    SK바이오팜   98500.0  1000.0  +1.03%   500.0   165352.0   280718.0   \n",
       "75  48.0     S-Oil   68400.0  2200.0  -3.12%  2500.0   215716.0   403881.0   \n",
       "76  49.0      한화오션   24650.0    50.0  +0.20%  5000.0   304858.0   793350.0   \n",
       "77  50.0    현대글로비스  188000.0   800.0  -0.42%   500.0    47817.0   116746.0   \n",
       "\n",
       "    외국인비율    PER    PBR  \n",
       "65  14.14   3.25   0.28  \n",
       "66  33.11  20.62   1.54  \n",
       "67  16.35   6.41   0.89  \n",
       "68  42.69   7.26   0.49  \n",
       "69  25.95  54.40   0.81  \n",
       "73  27.43  59.13   1.94  \n",
       "74   7.87 -92.40  27.01  \n",
       "75  76.91   7.84   0.89  \n",
       "76   9.34  -7.67   2.37  \n",
       "77  48.21   6.01   0.93  "
      ]
     },
     "execution_count": 17,
     "metadata": {},
     "output_type": "execute_result"
    }
   ],
   "source": [
    "df.tail(10)"
   ]
  },
  {
   "cell_type": "code",
   "execution_count": null,
   "metadata": {},
   "outputs": [],
   "source": [
    "# 6. 파일 저장\n",
    "import os\n",
    "\n",
    "\n",
    "f_name = 'sise.csv'\n",
    "\n",
    "if os.path.exists(f_name): # 파일이 있다면? 헤더 제외\n",
    "    df.to_csv(f_name, encoding='utf-8-sig', index=False, mode='a', header=False)\n",
    "else: # 파일이 없다면? 헤더 포함\n",
    "    df.to_csv(f_name, encoding='utf-8-sig', index=False)\n",
    "\n",
    "print(f'{idx} 페이지 완료')"
   ]
  },
  {
   "cell_type": "code",
   "execution_count": 13,
   "metadata": {},
   "outputs": [],
   "source": [
    "import os"
   ]
  },
  {
   "cell_type": "code",
   "execution_count": 14,
   "metadata": {},
   "outputs": [
    {
     "name": "stderr",
     "output_type": "stream",
     "text": [
      "C:\\Users\\user\\AppData\\Local\\Temp\\ipykernel_25580\\3335955630.py:6: FutureWarning: Passing literal html to 'read_html' is deprecated and will be removed in a future version. To read from a literal string, wrap it in a 'StringIO' object.\n",
      "  df = pd.read_html(browser.page_source)[1]\n"
     ]
    },
    {
     "name": "stdout",
     "output_type": "stream",
     "text": [
      "1 페이지 완료\n"
     ]
    },
    {
     "name": "stderr",
     "output_type": "stream",
     "text": [
      "C:\\Users\\user\\AppData\\Local\\Temp\\ipykernel_25580\\3335955630.py:6: FutureWarning: Passing literal html to 'read_html' is deprecated and will be removed in a future version. To read from a literal string, wrap it in a 'StringIO' object.\n",
      "  df = pd.read_html(browser.page_source)[1]\n"
     ]
    },
    {
     "name": "stdout",
     "output_type": "stream",
     "text": [
      "2 페이지 완료\n"
     ]
    },
    {
     "name": "stderr",
     "output_type": "stream",
     "text": [
      "C:\\Users\\user\\AppData\\Local\\Temp\\ipykernel_25580\\3335955630.py:6: FutureWarning: Passing literal html to 'read_html' is deprecated and will be removed in a future version. To read from a literal string, wrap it in a 'StringIO' object.\n",
      "  df = pd.read_html(browser.page_source)[1]\n"
     ]
    },
    {
     "name": "stdout",
     "output_type": "stream",
     "text": [
      "3 페이지 완료\n"
     ]
    },
    {
     "name": "stderr",
     "output_type": "stream",
     "text": [
      "C:\\Users\\user\\AppData\\Local\\Temp\\ipykernel_25580\\3335955630.py:6: FutureWarning: Passing literal html to 'read_html' is deprecated and will be removed in a future version. To read from a literal string, wrap it in a 'StringIO' object.\n",
      "  df = pd.read_html(browser.page_source)[1]\n"
     ]
    },
    {
     "name": "stdout",
     "output_type": "stream",
     "text": [
      "4 페이지 완료\n"
     ]
    },
    {
     "name": "stderr",
     "output_type": "stream",
     "text": [
      "C:\\Users\\user\\AppData\\Local\\Temp\\ipykernel_25580\\3335955630.py:6: FutureWarning: Passing literal html to 'read_html' is deprecated and will be removed in a future version. To read from a literal string, wrap it in a 'StringIO' object.\n",
      "  df = pd.read_html(browser.page_source)[1]\n"
     ]
    },
    {
     "name": "stdout",
     "output_type": "stream",
     "text": [
      "5 페이지 완료\n"
     ]
    },
    {
     "name": "stderr",
     "output_type": "stream",
     "text": [
      "C:\\Users\\user\\AppData\\Local\\Temp\\ipykernel_25580\\3335955630.py:6: FutureWarning: Passing literal html to 'read_html' is deprecated and will be removed in a future version. To read from a literal string, wrap it in a 'StringIO' object.\n",
      "  df = pd.read_html(browser.page_source)[1]\n"
     ]
    },
    {
     "name": "stdout",
     "output_type": "stream",
     "text": [
      "6 페이지 완료\n"
     ]
    },
    {
     "name": "stderr",
     "output_type": "stream",
     "text": [
      "C:\\Users\\user\\AppData\\Local\\Temp\\ipykernel_25580\\3335955630.py:6: FutureWarning: Passing literal html to 'read_html' is deprecated and will be removed in a future version. To read from a literal string, wrap it in a 'StringIO' object.\n",
      "  df = pd.read_html(browser.page_source)[1]\n"
     ]
    },
    {
     "name": "stdout",
     "output_type": "stream",
     "text": [
      "7 페이지 완료\n"
     ]
    },
    {
     "name": "stderr",
     "output_type": "stream",
     "text": [
      "C:\\Users\\user\\AppData\\Local\\Temp\\ipykernel_25580\\3335955630.py:6: FutureWarning: Passing literal html to 'read_html' is deprecated and will be removed in a future version. To read from a literal string, wrap it in a 'StringIO' object.\n",
      "  df = pd.read_html(browser.page_source)[1]\n"
     ]
    },
    {
     "name": "stdout",
     "output_type": "stream",
     "text": [
      "8 페이지 완료\n"
     ]
    },
    {
     "name": "stderr",
     "output_type": "stream",
     "text": [
      "C:\\Users\\user\\AppData\\Local\\Temp\\ipykernel_25580\\3335955630.py:6: FutureWarning: Passing literal html to 'read_html' is deprecated and will be removed in a future version. To read from a literal string, wrap it in a 'StringIO' object.\n",
      "  df = pd.read_html(browser.page_source)[1]\n"
     ]
    },
    {
     "name": "stdout",
     "output_type": "stream",
     "text": [
      "9 페이지 완료\n"
     ]
    },
    {
     "name": "stderr",
     "output_type": "stream",
     "text": [
      "C:\\Users\\user\\AppData\\Local\\Temp\\ipykernel_25580\\3335955630.py:6: FutureWarning: Passing literal html to 'read_html' is deprecated and will be removed in a future version. To read from a literal string, wrap it in a 'StringIO' object.\n",
      "  df = pd.read_html(browser.page_source)[1]\n"
     ]
    },
    {
     "name": "stdout",
     "output_type": "stream",
     "text": [
      "10 페이지 완료\n"
     ]
    },
    {
     "name": "stderr",
     "output_type": "stream",
     "text": [
      "C:\\Users\\user\\AppData\\Local\\Temp\\ipykernel_25580\\3335955630.py:6: FutureWarning: Passing literal html to 'read_html' is deprecated and will be removed in a future version. To read from a literal string, wrap it in a 'StringIO' object.\n",
      "  df = pd.read_html(browser.page_source)[1]\n"
     ]
    },
    {
     "name": "stdout",
     "output_type": "stream",
     "text": [
      "11 페이지 완료\n"
     ]
    },
    {
     "name": "stderr",
     "output_type": "stream",
     "text": [
      "C:\\Users\\user\\AppData\\Local\\Temp\\ipykernel_25580\\3335955630.py:6: FutureWarning: Passing literal html to 'read_html' is deprecated and will be removed in a future version. To read from a literal string, wrap it in a 'StringIO' object.\n",
      "  df = pd.read_html(browser.page_source)[1]\n"
     ]
    },
    {
     "name": "stdout",
     "output_type": "stream",
     "text": [
      "12 페이지 완료\n"
     ]
    },
    {
     "name": "stderr",
     "output_type": "stream",
     "text": [
      "C:\\Users\\user\\AppData\\Local\\Temp\\ipykernel_25580\\3335955630.py:6: FutureWarning: Passing literal html to 'read_html' is deprecated and will be removed in a future version. To read from a literal string, wrap it in a 'StringIO' object.\n",
      "  df = pd.read_html(browser.page_source)[1]\n"
     ]
    },
    {
     "name": "stdout",
     "output_type": "stream",
     "text": [
      "13 페이지 완료\n"
     ]
    },
    {
     "name": "stderr",
     "output_type": "stream",
     "text": [
      "C:\\Users\\user\\AppData\\Local\\Temp\\ipykernel_25580\\3335955630.py:6: FutureWarning: Passing literal html to 'read_html' is deprecated and will be removed in a future version. To read from a literal string, wrap it in a 'StringIO' object.\n",
      "  df = pd.read_html(browser.page_source)[1]\n"
     ]
    },
    {
     "name": "stdout",
     "output_type": "stream",
     "text": [
      "14 페이지 완료\n"
     ]
    },
    {
     "name": "stderr",
     "output_type": "stream",
     "text": [
      "C:\\Users\\user\\AppData\\Local\\Temp\\ipykernel_25580\\3335955630.py:6: FutureWarning: Passing literal html to 'read_html' is deprecated and will be removed in a future version. To read from a literal string, wrap it in a 'StringIO' object.\n",
      "  df = pd.read_html(browser.page_source)[1]\n"
     ]
    },
    {
     "name": "stdout",
     "output_type": "stream",
     "text": [
      "15 페이지 완료\n"
     ]
    },
    {
     "name": "stderr",
     "output_type": "stream",
     "text": [
      "C:\\Users\\user\\AppData\\Local\\Temp\\ipykernel_25580\\3335955630.py:6: FutureWarning: Passing literal html to 'read_html' is deprecated and will be removed in a future version. To read from a literal string, wrap it in a 'StringIO' object.\n",
      "  df = pd.read_html(browser.page_source)[1]\n"
     ]
    },
    {
     "name": "stdout",
     "output_type": "stream",
     "text": [
      "16 페이지 완료\n"
     ]
    },
    {
     "name": "stderr",
     "output_type": "stream",
     "text": [
      "C:\\Users\\user\\AppData\\Local\\Temp\\ipykernel_25580\\3335955630.py:6: FutureWarning: Passing literal html to 'read_html' is deprecated and will be removed in a future version. To read from a literal string, wrap it in a 'StringIO' object.\n",
      "  df = pd.read_html(browser.page_source)[1]\n"
     ]
    },
    {
     "name": "stdout",
     "output_type": "stream",
     "text": [
      "17 페이지 완료\n"
     ]
    },
    {
     "name": "stderr",
     "output_type": "stream",
     "text": [
      "C:\\Users\\user\\AppData\\Local\\Temp\\ipykernel_25580\\3335955630.py:6: FutureWarning: Passing literal html to 'read_html' is deprecated and will be removed in a future version. To read from a literal string, wrap it in a 'StringIO' object.\n",
      "  df = pd.read_html(browser.page_source)[1]\n"
     ]
    },
    {
     "name": "stdout",
     "output_type": "stream",
     "text": [
      "18 페이지 완료\n"
     ]
    },
    {
     "name": "stderr",
     "output_type": "stream",
     "text": [
      "C:\\Users\\user\\AppData\\Local\\Temp\\ipykernel_25580\\3335955630.py:6: FutureWarning: Passing literal html to 'read_html' is deprecated and will be removed in a future version. To read from a literal string, wrap it in a 'StringIO' object.\n",
      "  df = pd.read_html(browser.page_source)[1]\n"
     ]
    },
    {
     "name": "stdout",
     "output_type": "stream",
     "text": [
      "19 페이지 완료\n"
     ]
    },
    {
     "name": "stderr",
     "output_type": "stream",
     "text": [
      "C:\\Users\\user\\AppData\\Local\\Temp\\ipykernel_25580\\3335955630.py:6: FutureWarning: Passing literal html to 'read_html' is deprecated and will be removed in a future version. To read from a literal string, wrap it in a 'StringIO' object.\n",
      "  df = pd.read_html(browser.page_source)[1]\n"
     ]
    },
    {
     "name": "stdout",
     "output_type": "stream",
     "text": [
      "20 페이지 완료\n"
     ]
    },
    {
     "name": "stderr",
     "output_type": "stream",
     "text": [
      "C:\\Users\\user\\AppData\\Local\\Temp\\ipykernel_25580\\3335955630.py:6: FutureWarning: Passing literal html to 'read_html' is deprecated and will be removed in a future version. To read from a literal string, wrap it in a 'StringIO' object.\n",
      "  df = pd.read_html(browser.page_source)[1]\n"
     ]
    },
    {
     "name": "stdout",
     "output_type": "stream",
     "text": [
      "21 페이지 완료\n"
     ]
    },
    {
     "name": "stderr",
     "output_type": "stream",
     "text": [
      "C:\\Users\\user\\AppData\\Local\\Temp\\ipykernel_25580\\3335955630.py:6: FutureWarning: Passing literal html to 'read_html' is deprecated and will be removed in a future version. To read from a literal string, wrap it in a 'StringIO' object.\n",
      "  df = pd.read_html(browser.page_source)[1]\n"
     ]
    },
    {
     "name": "stdout",
     "output_type": "stream",
     "text": [
      "22 페이지 완료\n"
     ]
    },
    {
     "name": "stderr",
     "output_type": "stream",
     "text": [
      "C:\\Users\\user\\AppData\\Local\\Temp\\ipykernel_25580\\3335955630.py:6: FutureWarning: Passing literal html to 'read_html' is deprecated and will be removed in a future version. To read from a literal string, wrap it in a 'StringIO' object.\n",
      "  df = pd.read_html(browser.page_source)[1]\n"
     ]
    },
    {
     "name": "stdout",
     "output_type": "stream",
     "text": [
      "23 페이지 완료\n"
     ]
    },
    {
     "name": "stderr",
     "output_type": "stream",
     "text": [
      "C:\\Users\\user\\AppData\\Local\\Temp\\ipykernel_25580\\3335955630.py:6: FutureWarning: Passing literal html to 'read_html' is deprecated and will be removed in a future version. To read from a literal string, wrap it in a 'StringIO' object.\n",
      "  df = pd.read_html(browser.page_source)[1]\n"
     ]
    },
    {
     "name": "stdout",
     "output_type": "stream",
     "text": [
      "24 페이지 완료\n"
     ]
    },
    {
     "name": "stderr",
     "output_type": "stream",
     "text": [
      "C:\\Users\\user\\AppData\\Local\\Temp\\ipykernel_25580\\3335955630.py:6: FutureWarning: Passing literal html to 'read_html' is deprecated and will be removed in a future version. To read from a literal string, wrap it in a 'StringIO' object.\n",
      "  df = pd.read_html(browser.page_source)[1]\n"
     ]
    },
    {
     "name": "stdout",
     "output_type": "stream",
     "text": [
      "25 페이지 완료\n"
     ]
    },
    {
     "name": "stderr",
     "output_type": "stream",
     "text": [
      "C:\\Users\\user\\AppData\\Local\\Temp\\ipykernel_25580\\3335955630.py:6: FutureWarning: Passing literal html to 'read_html' is deprecated and will be removed in a future version. To read from a literal string, wrap it in a 'StringIO' object.\n",
      "  df = pd.read_html(browser.page_source)[1]\n"
     ]
    },
    {
     "name": "stdout",
     "output_type": "stream",
     "text": [
      "26 페이지 완료\n"
     ]
    },
    {
     "name": "stderr",
     "output_type": "stream",
     "text": [
      "C:\\Users\\user\\AppData\\Local\\Temp\\ipykernel_25580\\3335955630.py:6: FutureWarning: Passing literal html to 'read_html' is deprecated and will be removed in a future version. To read from a literal string, wrap it in a 'StringIO' object.\n",
      "  df = pd.read_html(browser.page_source)[1]\n"
     ]
    },
    {
     "name": "stdout",
     "output_type": "stream",
     "text": [
      "27 페이지 완료\n"
     ]
    },
    {
     "name": "stderr",
     "output_type": "stream",
     "text": [
      "C:\\Users\\user\\AppData\\Local\\Temp\\ipykernel_25580\\3335955630.py:6: FutureWarning: Passing literal html to 'read_html' is deprecated and will be removed in a future version. To read from a literal string, wrap it in a 'StringIO' object.\n",
      "  df = pd.read_html(browser.page_source)[1]\n"
     ]
    },
    {
     "name": "stdout",
     "output_type": "stream",
     "text": [
      "28 페이지 완료\n"
     ]
    },
    {
     "name": "stderr",
     "output_type": "stream",
     "text": [
      "C:\\Users\\user\\AppData\\Local\\Temp\\ipykernel_25580\\3335955630.py:6: FutureWarning: Passing literal html to 'read_html' is deprecated and will be removed in a future version. To read from a literal string, wrap it in a 'StringIO' object.\n",
      "  df = pd.read_html(browser.page_source)[1]\n"
     ]
    },
    {
     "name": "stdout",
     "output_type": "stream",
     "text": [
      "29 페이지 완료\n"
     ]
    },
    {
     "name": "stderr",
     "output_type": "stream",
     "text": [
      "C:\\Users\\user\\AppData\\Local\\Temp\\ipykernel_25580\\3335955630.py:6: FutureWarning: Passing literal html to 'read_html' is deprecated and will be removed in a future version. To read from a literal string, wrap it in a 'StringIO' object.\n",
      "  df = pd.read_html(browser.page_source)[1]\n"
     ]
    },
    {
     "name": "stdout",
     "output_type": "stream",
     "text": [
      "30 페이지 완료\n"
     ]
    },
    {
     "name": "stderr",
     "output_type": "stream",
     "text": [
      "C:\\Users\\user\\AppData\\Local\\Temp\\ipykernel_25580\\3335955630.py:6: FutureWarning: Passing literal html to 'read_html' is deprecated and will be removed in a future version. To read from a literal string, wrap it in a 'StringIO' object.\n",
      "  df = pd.read_html(browser.page_source)[1]\n"
     ]
    },
    {
     "name": "stdout",
     "output_type": "stream",
     "text": [
      "31 페이지 완료\n"
     ]
    },
    {
     "name": "stderr",
     "output_type": "stream",
     "text": [
      "C:\\Users\\user\\AppData\\Local\\Temp\\ipykernel_25580\\3335955630.py:6: FutureWarning: Passing literal html to 'read_html' is deprecated and will be removed in a future version. To read from a literal string, wrap it in a 'StringIO' object.\n",
      "  df = pd.read_html(browser.page_source)[1]\n"
     ]
    },
    {
     "name": "stdout",
     "output_type": "stream",
     "text": [
      "32 페이지 완료\n"
     ]
    },
    {
     "name": "stderr",
     "output_type": "stream",
     "text": [
      "C:\\Users\\user\\AppData\\Local\\Temp\\ipykernel_25580\\3335955630.py:6: FutureWarning: Passing literal html to 'read_html' is deprecated and will be removed in a future version. To read from a literal string, wrap it in a 'StringIO' object.\n",
      "  df = pd.read_html(browser.page_source)[1]\n"
     ]
    },
    {
     "name": "stdout",
     "output_type": "stream",
     "text": [
      "33 페이지 완료\n"
     ]
    },
    {
     "name": "stderr",
     "output_type": "stream",
     "text": [
      "C:\\Users\\user\\AppData\\Local\\Temp\\ipykernel_25580\\3335955630.py:6: FutureWarning: Passing literal html to 'read_html' is deprecated and will be removed in a future version. To read from a literal string, wrap it in a 'StringIO' object.\n",
      "  df = pd.read_html(browser.page_source)[1]\n"
     ]
    },
    {
     "name": "stdout",
     "output_type": "stream",
     "text": [
      "34 페이지 완료\n"
     ]
    },
    {
     "name": "stderr",
     "output_type": "stream",
     "text": [
      "C:\\Users\\user\\AppData\\Local\\Temp\\ipykernel_25580\\3335955630.py:6: FutureWarning: Passing literal html to 'read_html' is deprecated and will be removed in a future version. To read from a literal string, wrap it in a 'StringIO' object.\n",
      "  df = pd.read_html(browser.page_source)[1]\n"
     ]
    },
    {
     "name": "stdout",
     "output_type": "stream",
     "text": [
      "35 페이지 완료\n"
     ]
    },
    {
     "name": "stderr",
     "output_type": "stream",
     "text": [
      "C:\\Users\\user\\AppData\\Local\\Temp\\ipykernel_25580\\3335955630.py:6: FutureWarning: Passing literal html to 'read_html' is deprecated and will be removed in a future version. To read from a literal string, wrap it in a 'StringIO' object.\n",
      "  df = pd.read_html(browser.page_source)[1]\n"
     ]
    },
    {
     "name": "stdout",
     "output_type": "stream",
     "text": [
      "36 페이지 완료\n"
     ]
    },
    {
     "name": "stderr",
     "output_type": "stream",
     "text": [
      "C:\\Users\\user\\AppData\\Local\\Temp\\ipykernel_25580\\3335955630.py:6: FutureWarning: Passing literal html to 'read_html' is deprecated and will be removed in a future version. To read from a literal string, wrap it in a 'StringIO' object.\n",
      "  df = pd.read_html(browser.page_source)[1]\n"
     ]
    },
    {
     "name": "stdout",
     "output_type": "stream",
     "text": [
      "37 페이지 완료\n"
     ]
    },
    {
     "name": "stderr",
     "output_type": "stream",
     "text": [
      "C:\\Users\\user\\AppData\\Local\\Temp\\ipykernel_25580\\3335955630.py:6: FutureWarning: Passing literal html to 'read_html' is deprecated and will be removed in a future version. To read from a literal string, wrap it in a 'StringIO' object.\n",
      "  df = pd.read_html(browser.page_source)[1]\n"
     ]
    },
    {
     "name": "stdout",
     "output_type": "stream",
     "text": [
      "38 페이지 완료\n"
     ]
    },
    {
     "name": "stderr",
     "output_type": "stream",
     "text": [
      "C:\\Users\\user\\AppData\\Local\\Temp\\ipykernel_25580\\3335955630.py:6: FutureWarning: Passing literal html to 'read_html' is deprecated and will be removed in a future version. To read from a literal string, wrap it in a 'StringIO' object.\n",
      "  df = pd.read_html(browser.page_source)[1]\n"
     ]
    },
    {
     "name": "stdout",
     "output_type": "stream",
     "text": [
      "39 페이지 완료\n"
     ]
    }
   ],
   "source": [
    "for idx in range(1, 40): # 1 이상 40 미만 페이지 반복\n",
    "    # 사전 작업 : 페이지 이동\n",
    "    browser.get(url + str(idx)) # http://naver.com....&page=2\n",
    "\n",
    "    # 5. 데이터 추출\n",
    "    df = pd.read_html(browser.page_source)[1]\n",
    "    df.dropna(axis='index', how='all', inplace=True)\n",
    "    df.dropna(axis='columns', how='all', inplace=True)\n",
    "    if len(df) == 0: # 더 이상 가져올 데이터가 없으면?\n",
    "        break\n",
    "\n",
    "    # 6. 파일 저장\n",
    "    f_name = 'sise.csv'\n",
    "    if os.path.exists(f_name): # 파일이 있다면? 헤더 제외\n",
    "        df.to_csv(f_name, encoding='utf-8-sig', index=False, mode='a', header=False)\n",
    "    else: # 파일이 없다면? 헤더 포함\n",
    "        df.to_csv(f_name, encoding='utf-8-sig', index=False)\n",
    "    print(f'{idx} 페이지 완료')\n",
    "\n",
    "browser.quit() # 브라우저 종료"
   ]
  },
  {
   "cell_type": "code",
   "execution_count": 21,
   "metadata": {},
   "outputs": [
    {
     "name": "stdout",
     "output_type": "stream",
     "text": [
      "Collecting beautifulsoup4\n",
      "  Downloading beautifulsoup4-4.12.2-py3-none-any.whl (142 kB)\n",
      "     ---------------------------------------- 0.0/143.0 kB ? eta -:--:--\n",
      "     -------- ------------------------------ 30.7/143.0 kB 1.4 MB/s eta 0:00:01\n",
      "     ----------------------------------- -- 133.1/143.0 kB 2.6 MB/s eta 0:00:01\n",
      "     -------------------------------------- 143.0/143.0 kB 1.7 MB/s eta 0:00:00\n",
      "Collecting soupsieve>1.2 (from beautifulsoup4)\n",
      "  Downloading soupsieve-2.5-py3-none-any.whl.metadata (4.7 kB)\n",
      "Downloading soupsieve-2.5-py3-none-any.whl (36 kB)\n",
      "Installing collected packages: soupsieve, beautifulsoup4\n",
      "Successfully installed beautifulsoup4-4.12.2 soupsieve-2.5\n",
      "Note: you may need to restart the kernel to use updated packages.\n"
     ]
    }
   ],
   "source": [
    "%pip install beautifulsoup4"
   ]
  },
  {
   "cell_type": "code",
   "execution_count": 15,
   "metadata": {},
   "outputs": [],
   "source": [
    "from bs4 import BeautifulSoup\n",
    "import requests"
   ]
  },
  {
   "cell_type": "code",
   "execution_count": 33,
   "metadata": {},
   "outputs": [
    {
     "name": "stdout",
     "output_type": "stream",
     "text": [
      "Requirement already satisfied: html5lib in c:\\users\\user\\anaconda3\\envs\\bigproject\\lib\\site-packages (1.1)\n",
      "Requirement already satisfied: six>=1.9 in c:\\users\\user\\anaconda3\\envs\\bigproject\\lib\\site-packages (from html5lib) (1.16.0)\n",
      "Requirement already satisfied: webencodings in c:\\users\\user\\anaconda3\\envs\\bigproject\\lib\\site-packages (from html5lib) (0.5.1)\n",
      "Note: you may need to restart the kernel to use updated packages.\n"
     ]
    }
   ],
   "source": [
    "%pip install html5lib"
   ]
  },
  {
   "cell_type": "code",
   "execution_count": 32,
   "metadata": {},
   "outputs": [],
   "source": [
    "def load_allstock_KRX():\n",
    "    # KRX site에서 제공하는 상장법인목록 load\n",
    "    krx_url = 'https://kind.krx.co.kr/corpgeneral/corpList.do?method=download&searchType=13'\n",
    "    stk_data = pd.read_html(krx_url, header=0)[0]  # 해당 site에서 table 추출 및 header는 가장 첫번째 행\n",
    "    stk_data = stk_data[['회사명', '종목코드']]     # 9개의 열 중 '회사명', '종목코드' 만 추출하여 dataframe 완성\n",
    "    stk_data = stk_data.rename(columns={'회사명': 'Name', '종목코드': 'Code'})\n",
    "                                                   # column 명을 한글에서 영어로 바꿈\n",
    "    \n",
    "    # 종목코드가 모두 6자리로 이루어져있지만 혹시 모르니, 6자리 미만 코드는 앞에 0을 채워넣어\n",
    "    # 6자리 숫자텍스트로 변환\n",
    "    stk_data['Code'] = stk_data['Code'].apply(lambda input: '0' * (6 - len(str(input))) + str(input))      \n",
    "    \n",
    "    # CSV 파일로 저장 (인코딩을 utf-8로 지정)\n",
    "    stk_data.to_csv('all_stock_krx.csv', index=False, encoding='utf-8')\n",
    "    \n",
    "    return stk_data\n"
   ]
  },
  {
   "cell_type": "code",
   "execution_count": 37,
   "metadata": {},
   "outputs": [
    {
     "ename": "UnicodeDecodeError",
     "evalue": "'utf-8' codec can't decode byte 0xbb in position 144: invalid start byte",
     "output_type": "error",
     "traceback": [
      "\u001b[1;31m---------------------------------------------------------------------------\u001b[0m",
      "\u001b[1;31mUnicodeDecodeError\u001b[0m                        Traceback (most recent call last)",
      "Cell \u001b[1;32mIn[37], line 1\u001b[0m\n\u001b[1;32m----> 1\u001b[0m df_stock \u001b[38;5;241m=\u001b[39m \u001b[43mload_allstock_KRX\u001b[49m\u001b[43m(\u001b[49m\u001b[43m)\u001b[49m\n\u001b[0;32m      2\u001b[0m \u001b[38;5;28mprint\u001b[39m(df_stock)         \u001b[38;5;66;03m# 위의 5행 print\u001b[39;00m\n",
      "Cell \u001b[1;32mIn[32], line 4\u001b[0m, in \u001b[0;36mload_allstock_KRX\u001b[1;34m()\u001b[0m\n\u001b[0;32m      1\u001b[0m \u001b[38;5;28;01mdef\u001b[39;00m \u001b[38;5;21mload_allstock_KRX\u001b[39m():\n\u001b[0;32m      2\u001b[0m     \u001b[38;5;66;03m# KRX site에서 제공하는 상장법인목록 load\u001b[39;00m\n\u001b[0;32m      3\u001b[0m     krx_url \u001b[38;5;241m=\u001b[39m \u001b[38;5;124m'\u001b[39m\u001b[38;5;124mhttps://kind.krx.co.kr/corpgeneral/corpList.do?method=download&searchType=13\u001b[39m\u001b[38;5;124m'\u001b[39m\n\u001b[1;32m----> 4\u001b[0m     stk_data \u001b[38;5;241m=\u001b[39m \u001b[43mpd\u001b[49m\u001b[38;5;241;43m.\u001b[39;49m\u001b[43mread_html\u001b[49m\u001b[43m(\u001b[49m\u001b[43mkrx_url\u001b[49m\u001b[43m,\u001b[49m\u001b[43m \u001b[49m\u001b[43mheader\u001b[49m\u001b[38;5;241;43m=\u001b[39;49m\u001b[38;5;241;43m0\u001b[39;49m\u001b[43m)\u001b[49m[\u001b[38;5;241m0\u001b[39m]  \u001b[38;5;66;03m# 해당 site에서 table 추출 및 header는 가장 첫번째 행\u001b[39;00m\n\u001b[0;32m      5\u001b[0m     stk_data \u001b[38;5;241m=\u001b[39m stk_data[[\u001b[38;5;124m'\u001b[39m\u001b[38;5;124m회사명\u001b[39m\u001b[38;5;124m'\u001b[39m, \u001b[38;5;124m'\u001b[39m\u001b[38;5;124m종목코드\u001b[39m\u001b[38;5;124m'\u001b[39m]]     \u001b[38;5;66;03m# 9개의 열 중 '회사명', '종목코드' 만 추출하여 dataframe 완성\u001b[39;00m\n\u001b[0;32m      6\u001b[0m     stk_data \u001b[38;5;241m=\u001b[39m stk_data\u001b[38;5;241m.\u001b[39mrename(columns\u001b[38;5;241m=\u001b[39m{\u001b[38;5;124m'\u001b[39m\u001b[38;5;124m회사명\u001b[39m\u001b[38;5;124m'\u001b[39m: \u001b[38;5;124m'\u001b[39m\u001b[38;5;124mName\u001b[39m\u001b[38;5;124m'\u001b[39m, \u001b[38;5;124m'\u001b[39m\u001b[38;5;124m종목코드\u001b[39m\u001b[38;5;124m'\u001b[39m: \u001b[38;5;124m'\u001b[39m\u001b[38;5;124mCode\u001b[39m\u001b[38;5;124m'\u001b[39m})\n",
      "File \u001b[1;32mc:\\Users\\user\\anaconda3\\envs\\bigproject\\Lib\\site-packages\\pandas\\io\\html.py:1245\u001b[0m, in \u001b[0;36mread_html\u001b[1;34m(io, match, flavor, header, index_col, skiprows, attrs, parse_dates, thousands, encoding, decimal, converters, na_values, keep_default_na, displayed_only, extract_links, dtype_backend, storage_options)\u001b[0m\n\u001b[0;32m   1229\u001b[0m \u001b[38;5;28;01mif\u001b[39;00m \u001b[38;5;28misinstance\u001b[39m(io, \u001b[38;5;28mstr\u001b[39m) \u001b[38;5;129;01mand\u001b[39;00m \u001b[38;5;129;01mnot\u001b[39;00m \u001b[38;5;28many\u001b[39m(\n\u001b[0;32m   1230\u001b[0m     [\n\u001b[0;32m   1231\u001b[0m         is_file_like(io),\n\u001b[1;32m   (...)\u001b[0m\n\u001b[0;32m   1235\u001b[0m     ]\n\u001b[0;32m   1236\u001b[0m ):\n\u001b[0;32m   1237\u001b[0m     warnings\u001b[38;5;241m.\u001b[39mwarn(\n\u001b[0;32m   1238\u001b[0m         \u001b[38;5;124m\"\u001b[39m\u001b[38;5;124mPassing literal html to \u001b[39m\u001b[38;5;124m'\u001b[39m\u001b[38;5;124mread_html\u001b[39m\u001b[38;5;124m'\u001b[39m\u001b[38;5;124m is deprecated and \u001b[39m\u001b[38;5;124m\"\u001b[39m\n\u001b[0;32m   1239\u001b[0m         \u001b[38;5;124m\"\u001b[39m\u001b[38;5;124mwill be removed in a future version. To read from a \u001b[39m\u001b[38;5;124m\"\u001b[39m\n\u001b[1;32m   (...)\u001b[0m\n\u001b[0;32m   1242\u001b[0m         stacklevel\u001b[38;5;241m=\u001b[39mfind_stack_level(),\n\u001b[0;32m   1243\u001b[0m     )\n\u001b[1;32m-> 1245\u001b[0m \u001b[38;5;28;01mreturn\u001b[39;00m \u001b[43m_parse\u001b[49m\u001b[43m(\u001b[49m\n\u001b[0;32m   1246\u001b[0m \u001b[43m    \u001b[49m\u001b[43mflavor\u001b[49m\u001b[38;5;241;43m=\u001b[39;49m\u001b[43mflavor\u001b[49m\u001b[43m,\u001b[49m\n\u001b[0;32m   1247\u001b[0m \u001b[43m    \u001b[49m\u001b[43mio\u001b[49m\u001b[38;5;241;43m=\u001b[39;49m\u001b[43mio\u001b[49m\u001b[43m,\u001b[49m\n\u001b[0;32m   1248\u001b[0m \u001b[43m    \u001b[49m\u001b[43mmatch\u001b[49m\u001b[38;5;241;43m=\u001b[39;49m\u001b[43mmatch\u001b[49m\u001b[43m,\u001b[49m\n\u001b[0;32m   1249\u001b[0m \u001b[43m    \u001b[49m\u001b[43mheader\u001b[49m\u001b[38;5;241;43m=\u001b[39;49m\u001b[43mheader\u001b[49m\u001b[43m,\u001b[49m\n\u001b[0;32m   1250\u001b[0m \u001b[43m    \u001b[49m\u001b[43mindex_col\u001b[49m\u001b[38;5;241;43m=\u001b[39;49m\u001b[43mindex_col\u001b[49m\u001b[43m,\u001b[49m\n\u001b[0;32m   1251\u001b[0m \u001b[43m    \u001b[49m\u001b[43mskiprows\u001b[49m\u001b[38;5;241;43m=\u001b[39;49m\u001b[43mskiprows\u001b[49m\u001b[43m,\u001b[49m\n\u001b[0;32m   1252\u001b[0m \u001b[43m    \u001b[49m\u001b[43mparse_dates\u001b[49m\u001b[38;5;241;43m=\u001b[39;49m\u001b[43mparse_dates\u001b[49m\u001b[43m,\u001b[49m\n\u001b[0;32m   1253\u001b[0m \u001b[43m    \u001b[49m\u001b[43mthousands\u001b[49m\u001b[38;5;241;43m=\u001b[39;49m\u001b[43mthousands\u001b[49m\u001b[43m,\u001b[49m\n\u001b[0;32m   1254\u001b[0m \u001b[43m    \u001b[49m\u001b[43mattrs\u001b[49m\u001b[38;5;241;43m=\u001b[39;49m\u001b[43mattrs\u001b[49m\u001b[43m,\u001b[49m\n\u001b[0;32m   1255\u001b[0m \u001b[43m    \u001b[49m\u001b[43mencoding\u001b[49m\u001b[38;5;241;43m=\u001b[39;49m\u001b[43mencoding\u001b[49m\u001b[43m,\u001b[49m\n\u001b[0;32m   1256\u001b[0m \u001b[43m    \u001b[49m\u001b[43mdecimal\u001b[49m\u001b[38;5;241;43m=\u001b[39;49m\u001b[43mdecimal\u001b[49m\u001b[43m,\u001b[49m\n\u001b[0;32m   1257\u001b[0m \u001b[43m    \u001b[49m\u001b[43mconverters\u001b[49m\u001b[38;5;241;43m=\u001b[39;49m\u001b[43mconverters\u001b[49m\u001b[43m,\u001b[49m\n\u001b[0;32m   1258\u001b[0m \u001b[43m    \u001b[49m\u001b[43mna_values\u001b[49m\u001b[38;5;241;43m=\u001b[39;49m\u001b[43mna_values\u001b[49m\u001b[43m,\u001b[49m\n\u001b[0;32m   1259\u001b[0m \u001b[43m    \u001b[49m\u001b[43mkeep_default_na\u001b[49m\u001b[38;5;241;43m=\u001b[39;49m\u001b[43mkeep_default_na\u001b[49m\u001b[43m,\u001b[49m\n\u001b[0;32m   1260\u001b[0m \u001b[43m    \u001b[49m\u001b[43mdisplayed_only\u001b[49m\u001b[38;5;241;43m=\u001b[39;49m\u001b[43mdisplayed_only\u001b[49m\u001b[43m,\u001b[49m\n\u001b[0;32m   1261\u001b[0m \u001b[43m    \u001b[49m\u001b[43mextract_links\u001b[49m\u001b[38;5;241;43m=\u001b[39;49m\u001b[43mextract_links\u001b[49m\u001b[43m,\u001b[49m\n\u001b[0;32m   1262\u001b[0m \u001b[43m    \u001b[49m\u001b[43mdtype_backend\u001b[49m\u001b[38;5;241;43m=\u001b[39;49m\u001b[43mdtype_backend\u001b[49m\u001b[43m,\u001b[49m\n\u001b[0;32m   1263\u001b[0m \u001b[43m    \u001b[49m\u001b[43mstorage_options\u001b[49m\u001b[38;5;241;43m=\u001b[39;49m\u001b[43mstorage_options\u001b[49m\u001b[43m,\u001b[49m\n\u001b[0;32m   1264\u001b[0m \u001b[43m\u001b[49m\u001b[43m)\u001b[49m\n",
      "File \u001b[1;32mc:\\Users\\user\\anaconda3\\envs\\bigproject\\Lib\\site-packages\\pandas\\io\\html.py:1008\u001b[0m, in \u001b[0;36m_parse\u001b[1;34m(flavor, io, match, attrs, encoding, displayed_only, extract_links, storage_options, **kwargs)\u001b[0m\n\u001b[0;32m   1006\u001b[0m \u001b[38;5;28;01melse\u001b[39;00m:\n\u001b[0;32m   1007\u001b[0m     \u001b[38;5;28;01massert\u001b[39;00m retained \u001b[38;5;129;01mis\u001b[39;00m \u001b[38;5;129;01mnot\u001b[39;00m \u001b[38;5;28;01mNone\u001b[39;00m  \u001b[38;5;66;03m# for mypy\u001b[39;00m\n\u001b[1;32m-> 1008\u001b[0m     \u001b[38;5;28;01mraise\u001b[39;00m retained\n\u001b[0;32m   1010\u001b[0m ret \u001b[38;5;241m=\u001b[39m []\n\u001b[0;32m   1011\u001b[0m \u001b[38;5;28;01mfor\u001b[39;00m table \u001b[38;5;129;01min\u001b[39;00m tables:\n",
      "File \u001b[1;32mc:\\Users\\user\\anaconda3\\envs\\bigproject\\Lib\\site-packages\\pandas\\io\\html.py:988\u001b[0m, in \u001b[0;36m_parse\u001b[1;34m(flavor, io, match, attrs, encoding, displayed_only, extract_links, storage_options, **kwargs)\u001b[0m\n\u001b[0;32m    977\u001b[0m p \u001b[38;5;241m=\u001b[39m parser(\n\u001b[0;32m    978\u001b[0m     io,\n\u001b[0;32m    979\u001b[0m     compiled_match,\n\u001b[1;32m   (...)\u001b[0m\n\u001b[0;32m    984\u001b[0m     storage_options,\n\u001b[0;32m    985\u001b[0m )\n\u001b[0;32m    987\u001b[0m \u001b[38;5;28;01mtry\u001b[39;00m:\n\u001b[1;32m--> 988\u001b[0m     tables \u001b[38;5;241m=\u001b[39m \u001b[43mp\u001b[49m\u001b[38;5;241;43m.\u001b[39;49m\u001b[43mparse_tables\u001b[49m\u001b[43m(\u001b[49m\u001b[43m)\u001b[49m\n\u001b[0;32m    989\u001b[0m \u001b[38;5;28;01mexcept\u001b[39;00m \u001b[38;5;167;01mValueError\u001b[39;00m \u001b[38;5;28;01mas\u001b[39;00m caught:\n\u001b[0;32m    990\u001b[0m     \u001b[38;5;66;03m# if `io` is an io-like object, check if it's seekable\u001b[39;00m\n\u001b[0;32m    991\u001b[0m     \u001b[38;5;66;03m# and try to rewind it before trying the next parser\u001b[39;00m\n\u001b[0;32m    992\u001b[0m     \u001b[38;5;28;01mif\u001b[39;00m \u001b[38;5;28mhasattr\u001b[39m(io, \u001b[38;5;124m\"\u001b[39m\u001b[38;5;124mseekable\u001b[39m\u001b[38;5;124m\"\u001b[39m) \u001b[38;5;129;01mand\u001b[39;00m io\u001b[38;5;241m.\u001b[39mseekable():\n",
      "File \u001b[1;32mc:\\Users\\user\\anaconda3\\envs\\bigproject\\Lib\\site-packages\\pandas\\io\\html.py:248\u001b[0m, in \u001b[0;36m_HtmlFrameParser.parse_tables\u001b[1;34m(self)\u001b[0m\n\u001b[0;32m    240\u001b[0m \u001b[38;5;28;01mdef\u001b[39;00m \u001b[38;5;21mparse_tables\u001b[39m(\u001b[38;5;28mself\u001b[39m):\n\u001b[0;32m    241\u001b[0m \u001b[38;5;250m    \u001b[39m\u001b[38;5;124;03m\"\"\"\u001b[39;00m\n\u001b[0;32m    242\u001b[0m \u001b[38;5;124;03m    Parse and return all tables from the DOM.\u001b[39;00m\n\u001b[0;32m    243\u001b[0m \n\u001b[1;32m   (...)\u001b[0m\n\u001b[0;32m    246\u001b[0m \u001b[38;5;124;03m    list of parsed (header, body, footer) tuples from tables.\u001b[39;00m\n\u001b[0;32m    247\u001b[0m \u001b[38;5;124;03m    \"\"\"\u001b[39;00m\n\u001b[1;32m--> 248\u001b[0m     tables \u001b[38;5;241m=\u001b[39m \u001b[38;5;28mself\u001b[39m\u001b[38;5;241m.\u001b[39m_parse_tables(\u001b[38;5;28;43mself\u001b[39;49m\u001b[38;5;241;43m.\u001b[39;49m\u001b[43m_build_doc\u001b[49m\u001b[43m(\u001b[49m\u001b[43m)\u001b[49m, \u001b[38;5;28mself\u001b[39m\u001b[38;5;241m.\u001b[39mmatch, \u001b[38;5;28mself\u001b[39m\u001b[38;5;241m.\u001b[39mattrs)\n\u001b[0;32m    249\u001b[0m     \u001b[38;5;28;01mreturn\u001b[39;00m (\u001b[38;5;28mself\u001b[39m\u001b[38;5;241m.\u001b[39m_parse_thead_tbody_tfoot(table) \u001b[38;5;28;01mfor\u001b[39;00m table \u001b[38;5;129;01min\u001b[39;00m tables)\n",
      "File \u001b[1;32mc:\\Users\\user\\anaconda3\\envs\\bigproject\\Lib\\site-packages\\pandas\\io\\html.py:658\u001b[0m, in \u001b[0;36m_BeautifulSoupHtml5LibFrameParser._build_doc\u001b[1;34m(self)\u001b[0m\n\u001b[0;32m    655\u001b[0m \u001b[38;5;28;01mdef\u001b[39;00m \u001b[38;5;21m_build_doc\u001b[39m(\u001b[38;5;28mself\u001b[39m):\n\u001b[0;32m    656\u001b[0m     \u001b[38;5;28;01mfrom\u001b[39;00m \u001b[38;5;21;01mbs4\u001b[39;00m \u001b[38;5;28;01mimport\u001b[39;00m BeautifulSoup\n\u001b[1;32m--> 658\u001b[0m     bdoc \u001b[38;5;241m=\u001b[39m \u001b[38;5;28;43mself\u001b[39;49m\u001b[38;5;241;43m.\u001b[39;49m\u001b[43m_setup_build_doc\u001b[49m\u001b[43m(\u001b[49m\u001b[43m)\u001b[49m\n\u001b[0;32m    659\u001b[0m     \u001b[38;5;28;01mif\u001b[39;00m \u001b[38;5;28misinstance\u001b[39m(bdoc, \u001b[38;5;28mbytes\u001b[39m) \u001b[38;5;129;01mand\u001b[39;00m \u001b[38;5;28mself\u001b[39m\u001b[38;5;241m.\u001b[39mencoding \u001b[38;5;129;01mis\u001b[39;00m \u001b[38;5;129;01mnot\u001b[39;00m \u001b[38;5;28;01mNone\u001b[39;00m:\n\u001b[0;32m    660\u001b[0m         udoc \u001b[38;5;241m=\u001b[39m bdoc\u001b[38;5;241m.\u001b[39mdecode(\u001b[38;5;28mself\u001b[39m\u001b[38;5;241m.\u001b[39mencoding)\n",
      "File \u001b[1;32mc:\\Users\\user\\anaconda3\\envs\\bigproject\\Lib\\site-packages\\pandas\\io\\html.py:650\u001b[0m, in \u001b[0;36m_BeautifulSoupHtml5LibFrameParser._setup_build_doc\u001b[1;34m(self)\u001b[0m\n\u001b[0;32m    649\u001b[0m \u001b[38;5;28;01mdef\u001b[39;00m \u001b[38;5;21m_setup_build_doc\u001b[39m(\u001b[38;5;28mself\u001b[39m):\n\u001b[1;32m--> 650\u001b[0m     raw_text \u001b[38;5;241m=\u001b[39m \u001b[43m_read\u001b[49m\u001b[43m(\u001b[49m\u001b[38;5;28;43mself\u001b[39;49m\u001b[38;5;241;43m.\u001b[39;49m\u001b[43mio\u001b[49m\u001b[43m,\u001b[49m\u001b[43m \u001b[49m\u001b[38;5;28;43mself\u001b[39;49m\u001b[38;5;241;43m.\u001b[39;49m\u001b[43mencoding\u001b[49m\u001b[43m,\u001b[49m\u001b[43m \u001b[49m\u001b[38;5;28;43mself\u001b[39;49m\u001b[38;5;241;43m.\u001b[39;49m\u001b[43mstorage_options\u001b[49m\u001b[43m)\u001b[49m\n\u001b[0;32m    651\u001b[0m     \u001b[38;5;28;01mif\u001b[39;00m \u001b[38;5;129;01mnot\u001b[39;00m raw_text:\n\u001b[0;32m    652\u001b[0m         \u001b[38;5;28;01mraise\u001b[39;00m \u001b[38;5;167;01mValueError\u001b[39;00m(\u001b[38;5;124mf\u001b[39m\u001b[38;5;124m\"\u001b[39m\u001b[38;5;124mNo text parsed from document: \u001b[39m\u001b[38;5;132;01m{\u001b[39;00m\u001b[38;5;28mself\u001b[39m\u001b[38;5;241m.\u001b[39mio\u001b[38;5;132;01m}\u001b[39;00m\u001b[38;5;124m\"\u001b[39m)\n",
      "File \u001b[1;32mc:\\Users\\user\\anaconda3\\envs\\bigproject\\Lib\\site-packages\\pandas\\io\\html.py:145\u001b[0m, in \u001b[0;36m_read\u001b[1;34m(obj, encoding, storage_options)\u001b[0m\n\u001b[0;32m    137\u001b[0m \u001b[38;5;28;01mif\u001b[39;00m (\n\u001b[0;32m    138\u001b[0m     is_url(obj)\n\u001b[0;32m    139\u001b[0m     \u001b[38;5;129;01mor\u001b[39;00m \u001b[38;5;28mhasattr\u001b[39m(obj, \u001b[38;5;124m\"\u001b[39m\u001b[38;5;124mread\u001b[39m\u001b[38;5;124m\"\u001b[39m)\n\u001b[0;32m    140\u001b[0m     \u001b[38;5;129;01mor\u001b[39;00m (\u001b[38;5;28misinstance\u001b[39m(obj, \u001b[38;5;28mstr\u001b[39m) \u001b[38;5;129;01mand\u001b[39;00m file_exists(obj))\n\u001b[0;32m    141\u001b[0m ):\n\u001b[0;32m    142\u001b[0m     \u001b[38;5;28;01mwith\u001b[39;00m get_handle(\n\u001b[0;32m    143\u001b[0m         obj, \u001b[38;5;124m\"\u001b[39m\u001b[38;5;124mr\u001b[39m\u001b[38;5;124m\"\u001b[39m, encoding\u001b[38;5;241m=\u001b[39mencoding, storage_options\u001b[38;5;241m=\u001b[39mstorage_options\n\u001b[0;32m    144\u001b[0m     ) \u001b[38;5;28;01mas\u001b[39;00m handles:\n\u001b[1;32m--> 145\u001b[0m         text \u001b[38;5;241m=\u001b[39m \u001b[43mhandles\u001b[49m\u001b[38;5;241;43m.\u001b[39;49m\u001b[43mhandle\u001b[49m\u001b[38;5;241;43m.\u001b[39;49m\u001b[43mread\u001b[49m\u001b[43m(\u001b[49m\u001b[43m)\u001b[49m\n\u001b[0;32m    146\u001b[0m \u001b[38;5;28;01melif\u001b[39;00m \u001b[38;5;28misinstance\u001b[39m(obj, (\u001b[38;5;28mstr\u001b[39m, \u001b[38;5;28mbytes\u001b[39m)):\n\u001b[0;32m    147\u001b[0m     text \u001b[38;5;241m=\u001b[39m obj\n",
      "File \u001b[1;32m<frozen codecs>:322\u001b[0m, in \u001b[0;36mdecode\u001b[1;34m(self, input, final)\u001b[0m\n",
      "\u001b[1;31mUnicodeDecodeError\u001b[0m: 'utf-8' codec can't decode byte 0xbb in position 144: invalid start byte"
     ]
    }
   ],
   "source": [
    "df_stock = load_allstock_KRX()\n",
    "print(df_stock)         # 위의 5행 print"
   ]
  },
  {
   "cell_type": "code",
   "execution_count": 38,
   "metadata": {},
   "outputs": [
    {
     "name": "stdout",
     "output_type": "stream",
     "text": [
      "Collecting finance-datareader\n",
      "  Downloading finance_datareader-0.9.66-py3-none-any.whl.metadata (466 bytes)\n",
      "Requirement already satisfied: pandas>=0.19.2 in c:\\users\\user\\anaconda3\\envs\\bigproject\\lib\\site-packages (from finance-datareader) (2.1.4)\n",
      "Requirement already satisfied: requests>=2.3.0 in c:\\users\\user\\anaconda3\\envs\\bigproject\\lib\\site-packages (from finance-datareader) (2.31.0)\n",
      "Collecting requests-file (from finance-datareader)\n",
      "  Downloading requests_file-1.5.1-py2.py3-none-any.whl (3.7 kB)\n",
      "Requirement already satisfied: lxml in c:\\users\\user\\anaconda3\\envs\\bigproject\\lib\\site-packages (from finance-datareader) (4.9.4)\n",
      "Requirement already satisfied: tqdm in c:\\users\\user\\anaconda3\\envs\\bigproject\\lib\\site-packages (from finance-datareader) (4.66.1)\n",
      "Requirement already satisfied: numpy<2,>=1.23.2 in c:\\users\\user\\anaconda3\\envs\\bigproject\\lib\\site-packages (from pandas>=0.19.2->finance-datareader) (1.26.2)\n",
      "Requirement already satisfied: python-dateutil>=2.8.2 in c:\\users\\user\\anaconda3\\envs\\bigproject\\lib\\site-packages (from pandas>=0.19.2->finance-datareader) (2.8.2)\n",
      "Requirement already satisfied: pytz>=2020.1 in c:\\users\\user\\anaconda3\\envs\\bigproject\\lib\\site-packages (from pandas>=0.19.2->finance-datareader) (2023.3.post1)\n",
      "Requirement already satisfied: tzdata>=2022.1 in c:\\users\\user\\anaconda3\\envs\\bigproject\\lib\\site-packages (from pandas>=0.19.2->finance-datareader) (2023.3)\n",
      "Requirement already satisfied: charset-normalizer<4,>=2 in c:\\users\\user\\anaconda3\\envs\\bigproject\\lib\\site-packages (from requests>=2.3.0->finance-datareader) (3.3.2)\n",
      "Requirement already satisfied: idna<4,>=2.5 in c:\\users\\user\\anaconda3\\envs\\bigproject\\lib\\site-packages (from requests>=2.3.0->finance-datareader) (3.6)\n",
      "Requirement already satisfied: urllib3<3,>=1.21.1 in c:\\users\\user\\anaconda3\\envs\\bigproject\\lib\\site-packages (from requests>=2.3.0->finance-datareader) (2.1.0)\n",
      "Requirement already satisfied: certifi>=2017.4.17 in c:\\users\\user\\anaconda3\\envs\\bigproject\\lib\\site-packages (from requests>=2.3.0->finance-datareader) (2023.11.17)\n",
      "Requirement already satisfied: six in c:\\users\\user\\anaconda3\\envs\\bigproject\\lib\\site-packages (from requests-file->finance-datareader) (1.16.0)\n",
      "Requirement already satisfied: colorama in c:\\users\\user\\anaconda3\\envs\\bigproject\\lib\\site-packages (from tqdm->finance-datareader) (0.4.6)\n",
      "Downloading finance_datareader-0.9.66-py3-none-any.whl (23 kB)\n",
      "Installing collected packages: requests-file, finance-datareader\n",
      "Successfully installed finance-datareader-0.9.66 requests-file-1.5.1\n",
      "Note: you may need to restart the kernel to use updated packages.\n"
     ]
    }
   ],
   "source": [
    "%pip install finance-datareader"
   ]
  },
  {
   "cell_type": "code",
   "execution_count": 40,
   "metadata": {},
   "outputs": [
    {
     "name": "stdout",
     "output_type": "stream",
     "text": [
      "Collecting plotly\n",
      "  Downloading plotly-5.18.0-py3-none-any.whl.metadata (7.0 kB)\n",
      "Collecting tenacity>=6.2.0 (from plotly)\n",
      "  Downloading tenacity-8.2.3-py3-none-any.whl.metadata (1.0 kB)\n",
      "Requirement already satisfied: packaging in c:\\users\\user\\anaconda3\\envs\\bigproject\\lib\\site-packages (from plotly) (23.2)\n",
      "Downloading plotly-5.18.0-py3-none-any.whl (15.6 MB)\n",
      "   ---------------------------------------- 0.0/15.6 MB ? eta -:--:--\n",
      "   ---------------------------------------- 0.0/15.6 MB ? eta -:--:--\n",
      "   ---------------------------------------- 0.0/15.6 MB 445.2 kB/s eta 0:00:36\n",
      "   ---------------------------------------- 0.2/15.6 MB 1.5 MB/s eta 0:00:11\n",
      "    --------------------------------------- 0.3/15.6 MB 1.8 MB/s eta 0:00:09\n",
      "    --------------------------------------- 0.3/15.6 MB 1.5 MB/s eta 0:00:11\n",
      "   - -------------------------------------- 0.4/15.6 MB 1.6 MB/s eta 0:00:10\n",
      "   - -------------------------------------- 0.5/15.6 MB 1.6 MB/s eta 0:00:10\n",
      "   - -------------------------------------- 0.6/15.6 MB 1.8 MB/s eta 0:00:09\n",
      "   - -------------------------------------- 0.7/15.6 MB 1.8 MB/s eta 0:00:09\n",
      "   -- ------------------------------------- 0.9/15.6 MB 2.0 MB/s eta 0:00:08\n",
      "   -- ------------------------------------- 1.1/15.6 MB 2.2 MB/s eta 0:00:07\n",
      "   --- ------------------------------------ 1.3/15.6 MB 2.4 MB/s eta 0:00:07\n",
      "   --- ------------------------------------ 1.5/15.6 MB 2.6 MB/s eta 0:00:06\n",
      "   ---- ----------------------------------- 1.8/15.6 MB 2.9 MB/s eta 0:00:05\n",
      "   ----- ---------------------------------- 2.2/15.6 MB 3.3 MB/s eta 0:00:05\n",
      "   ------ --------------------------------- 2.5/15.6 MB 3.5 MB/s eta 0:00:04\n",
      "   ------- -------------------------------- 2.9/15.6 MB 3.8 MB/s eta 0:00:04\n",
      "   -------- ------------------------------- 3.3/15.6 MB 4.1 MB/s eta 0:00:04\n",
      "   --------- ------------------------------ 3.7/15.6 MB 4.3 MB/s eta 0:00:03\n",
      "   ---------- ----------------------------- 4.0/15.6 MB 4.5 MB/s eta 0:00:03\n",
      "   ---------- ----------------------------- 4.2/15.6 MB 4.5 MB/s eta 0:00:03\n",
      "   ----------- ---------------------------- 4.5/15.6 MB 4.5 MB/s eta 0:00:03\n",
      "   ------------ --------------------------- 4.7/15.6 MB 4.5 MB/s eta 0:00:03\n",
      "   ------------ --------------------------- 5.0/15.6 MB 4.6 MB/s eta 0:00:03\n",
      "   ------------- -------------------------- 5.2/15.6 MB 4.6 MB/s eta 0:00:03\n",
      "   ------------- -------------------------- 5.2/15.6 MB 4.5 MB/s eta 0:00:03\n",
      "   ------------- -------------------------- 5.3/15.6 MB 4.4 MB/s eta 0:00:03\n",
      "   -------------- ------------------------- 5.6/15.6 MB 4.4 MB/s eta 0:00:03\n",
      "   -------------- ------------------------- 5.8/15.6 MB 4.4 MB/s eta 0:00:03\n",
      "   --------------- ------------------------ 6.1/15.6 MB 4.4 MB/s eta 0:00:03\n",
      "   ---------------- ----------------------- 6.5/15.6 MB 4.6 MB/s eta 0:00:02\n",
      "   ----------------- ---------------------- 6.8/15.6 MB 4.6 MB/s eta 0:00:02\n",
      "   ----------------- ---------------------- 7.0/15.6 MB 4.6 MB/s eta 0:00:02\n",
      "   ------------------ --------------------- 7.2/15.6 MB 4.6 MB/s eta 0:00:02\n",
      "   ------------------- -------------------- 7.5/15.6 MB 4.7 MB/s eta 0:00:02\n",
      "   -------------------- ------------------- 7.8/15.6 MB 4.7 MB/s eta 0:00:02\n",
      "   -------------------- ------------------- 8.0/15.6 MB 4.7 MB/s eta 0:00:02\n",
      "   --------------------- ------------------ 8.3/15.6 MB 4.8 MB/s eta 0:00:02\n",
      "   --------------------- ------------------ 8.5/15.6 MB 4.8 MB/s eta 0:00:02\n",
      "   ---------------------- ----------------- 8.8/15.6 MB 4.8 MB/s eta 0:00:02\n",
      "   ---------------------- ----------------- 8.9/15.6 MB 4.8 MB/s eta 0:00:02\n",
      "   ----------------------- ---------------- 9.2/15.6 MB 4.8 MB/s eta 0:00:02\n",
      "   ------------------------ --------------- 9.5/15.6 MB 4.8 MB/s eta 0:00:02\n",
      "   ------------------------ --------------- 9.7/15.6 MB 4.8 MB/s eta 0:00:02\n",
      "   ------------------------- -------------- 9.9/15.6 MB 4.8 MB/s eta 0:00:02\n",
      "   ------------------------- -------------- 9.9/15.6 MB 4.8 MB/s eta 0:00:02\n",
      "   -------------------------- ------------- 10.4/15.6 MB 5.0 MB/s eta 0:00:02\n",
      "   --------------------------- ------------ 10.6/15.6 MB 5.3 MB/s eta 0:00:01\n",
      "   --------------------------- ------------ 10.9/15.6 MB 5.4 MB/s eta 0:00:01\n",
      "   ---------------------------- ----------- 11.1/15.6 MB 5.6 MB/s eta 0:00:01\n",
      "   ----------------------------- ---------- 11.4/15.6 MB 5.6 MB/s eta 0:00:01\n",
      "   ----------------------------- ---------- 11.6/15.6 MB 5.6 MB/s eta 0:00:01\n",
      "   ------------------------------ --------- 11.8/15.6 MB 5.5 MB/s eta 0:00:01\n",
      "   ------------------------------ --------- 12.0/15.6 MB 5.6 MB/s eta 0:00:01\n",
      "   ------------------------------- -------- 12.3/15.6 MB 5.5 MB/s eta 0:00:01\n",
      "   -------------------------------- ------- 12.5/15.6 MB 5.4 MB/s eta 0:00:01\n",
      "   -------------------------------- ------- 12.8/15.6 MB 5.4 MB/s eta 0:00:01\n",
      "   --------------------------------- ------ 13.0/15.6 MB 5.4 MB/s eta 0:00:01\n",
      "   --------------------------------- ------ 13.2/15.6 MB 5.3 MB/s eta 0:00:01\n",
      "   ---------------------------------- ----- 13.5/15.6 MB 5.2 MB/s eta 0:00:01\n",
      "   ---------------------------------- ----- 13.7/15.6 MB 5.2 MB/s eta 0:00:01\n",
      "   ----------------------------------- ---- 13.9/15.6 MB 5.1 MB/s eta 0:00:01\n",
      "   ------------------------------------ --- 14.2/15.6 MB 5.1 MB/s eta 0:00:01\n",
      "   ------------------------------------ --- 14.4/15.6 MB 5.1 MB/s eta 0:00:01\n",
      "   ------------------------------------- -- 14.5/15.6 MB 5.1 MB/s eta 0:00:01\n",
      "   ------------------------------------- -- 14.9/15.6 MB 5.1 MB/s eta 0:00:01\n",
      "   -------------------------------------- - 15.1/15.6 MB 5.1 MB/s eta 0:00:01\n",
      "   ---------------------------------------  15.3/15.6 MB 5.1 MB/s eta 0:00:01\n",
      "   ---------------------------------------  15.5/15.6 MB 5.3 MB/s eta 0:00:01\n",
      "   ---------------------------------------- 15.6/15.6 MB 5.2 MB/s eta 0:00:00\n",
      "Downloading tenacity-8.2.3-py3-none-any.whl (24 kB)\n",
      "Installing collected packages: tenacity, plotly\n",
      "Successfully installed plotly-5.18.0 tenacity-8.2.3\n",
      "Note: you may need to restart the kernel to use updated packages.\n"
     ]
    }
   ],
   "source": [
    "%pip install plotly"
   ]
  },
  {
   "cell_type": "code",
   "execution_count": 16,
   "metadata": {},
   "outputs": [],
   "source": [
    "import FinanceDataReader as fdr"
   ]
  },
  {
   "cell_type": "code",
   "execution_count": 17,
   "metadata": {},
   "outputs": [],
   "source": [
    "def load_allstock_KRX_fdr():\n",
    "    df_krx = fdr.StockListing(\"KRX\")\n",
    "    df_krx = df_krx[['Code', 'Name', 'MarketId']]\n",
    "    return df_krx"
   ]
  },
  {
   "cell_type": "code",
   "execution_count": 18,
   "metadata": {},
   "outputs": [
    {
     "name": "stdout",
     "output_type": "stream",
     "text": [
      "Index(['Code', 'ISU_CD', 'Name', 'Market', 'Dept', 'Close', 'ChangeCode',\n",
      "       'Changes', 'ChagesRatio', 'Open', 'High', 'Low', 'Volume', 'Amount',\n",
      "       'Marcap', 'Stocks', 'MarketId'],\n",
      "      dtype='object')\n"
     ]
    }
   ],
   "source": [
    "df_krx = fdr.StockListing(\"KRX\")\n",
    "print(df_krx.columns)       # column information 조회"
   ]
  },
  {
   "cell_type": "code",
   "execution_count": 19,
   "metadata": {},
   "outputs": [],
   "source": [
    "df_krx = df_krx[['Code', 'Name']]"
   ]
  },
  {
   "cell_type": "code",
   "execution_count": 36,
   "metadata": {},
   "outputs": [
    {
     "data": {
      "text/html": [
       "<div>\n",
       "<style scoped>\n",
       "    .dataframe tbody tr th:only-of-type {\n",
       "        vertical-align: middle;\n",
       "    }\n",
       "\n",
       "    .dataframe tbody tr th {\n",
       "        vertical-align: top;\n",
       "    }\n",
       "\n",
       "    .dataframe thead th {\n",
       "        text-align: right;\n",
       "    }\n",
       "</style>\n",
       "<table border=\"1\" class=\"dataframe\">\n",
       "  <thead>\n",
       "    <tr style=\"text-align: right;\">\n",
       "      <th></th>\n",
       "      <th>Code</th>\n",
       "      <th>Name</th>\n",
       "    </tr>\n",
       "  </thead>\n",
       "  <tbody>\n",
       "    <tr>\n",
       "      <th>0</th>\n",
       "      <td>005930</td>\n",
       "      <td>삼성전자</td>\n",
       "    </tr>\n",
       "    <tr>\n",
       "      <th>1</th>\n",
       "      <td>000660</td>\n",
       "      <td>SK하이닉스</td>\n",
       "    </tr>\n",
       "    <tr>\n",
       "      <th>2</th>\n",
       "      <td>373220</td>\n",
       "      <td>LG에너지솔루션</td>\n",
       "    </tr>\n",
       "    <tr>\n",
       "      <th>3</th>\n",
       "      <td>207940</td>\n",
       "      <td>삼성바이오로직스</td>\n",
       "    </tr>\n",
       "    <tr>\n",
       "      <th>4</th>\n",
       "      <td>005935</td>\n",
       "      <td>삼성전자우</td>\n",
       "    </tr>\n",
       "    <tr>\n",
       "      <th>...</th>\n",
       "      <td>...</td>\n",
       "      <td>...</td>\n",
       "    </tr>\n",
       "    <tr>\n",
       "      <th>2782</th>\n",
       "      <td>217320</td>\n",
       "      <td>썬테크</td>\n",
       "    </tr>\n",
       "    <tr>\n",
       "      <th>2783</th>\n",
       "      <td>308700</td>\n",
       "      <td>테크엔</td>\n",
       "    </tr>\n",
       "    <tr>\n",
       "      <th>2784</th>\n",
       "      <td>245450</td>\n",
       "      <td>씨앤에스링크</td>\n",
       "    </tr>\n",
       "    <tr>\n",
       "      <th>2785</th>\n",
       "      <td>322190</td>\n",
       "      <td>베른</td>\n",
       "    </tr>\n",
       "    <tr>\n",
       "      <th>2786</th>\n",
       "      <td>141020</td>\n",
       "      <td>디에스앤엘</td>\n",
       "    </tr>\n",
       "  </tbody>\n",
       "</table>\n",
       "<p>2787 rows × 2 columns</p>\n",
       "</div>"
      ],
      "text/plain": [
       "        Code      Name\n",
       "0     005930      삼성전자\n",
       "1     000660    SK하이닉스\n",
       "2     373220  LG에너지솔루션\n",
       "3     207940  삼성바이오로직스\n",
       "4     005935     삼성전자우\n",
       "...      ...       ...\n",
       "2782  217320       썬테크\n",
       "2783  308700       테크엔\n",
       "2784  245450    씨앤에스링크\n",
       "2785  322190        베른\n",
       "2786  141020     디에스앤엘\n",
       "\n",
       "[2787 rows x 2 columns]"
      ]
     },
     "execution_count": 36,
     "metadata": {},
     "output_type": "execute_result"
    }
   ],
   "source": [
    "df_krx"
   ]
  },
  {
   "cell_type": "code",
   "execution_count": 37,
   "metadata": {},
   "outputs": [],
   "source": [
    "df_krx.to_csv('df_krx.csv', index=False, encoding='utf-8')"
   ]
  },
  {
   "cell_type": "code",
   "execution_count": 38,
   "metadata": {},
   "outputs": [
    {
     "name": "stdout",
     "output_type": "stream",
     "text": [
      "        Code      Name\n",
      "0     005930      삼성전자\n",
      "1     000660    SK하이닉스\n",
      "2     373220  LG에너지솔루션\n",
      "3     207940  삼성바이오로직스\n",
      "4     005935     삼성전자우\n",
      "...      ...       ...\n",
      "2782  217320       썬테크\n",
      "2783  308700       테크엔\n",
      "2784  245450    씨앤에스링크\n",
      "2785  322190        베른\n",
      "2786  141020     디에스앤엘\n",
      "\n",
      "[2787 rows x 2 columns]\n"
     ]
    }
   ],
   "source": [
    "df_krx = pd.read_csv('df_krx.csv')\n",
    "\n",
    "print(df_krx)"
   ]
  },
  {
   "cell_type": "code",
   "execution_count": 27,
   "metadata": {},
   "outputs": [],
   "source": [
    "code='005930'\n",
    "url=f'https://finance.naver.com/item/sise_day.naver?code={code}'\n",
    "req=requests.get(url, headers={'User-agent':'Mozilla/5.0'})\n",
    "html=BeautifulSoup(req.text,\"lxml\")"
   ]
  },
  {
   "cell_type": "code",
   "execution_count": 28,
   "metadata": {},
   "outputs": [
    {
     "name": "stderr",
     "output_type": "stream",
     "text": [
      "C:\\Users\\user\\AppData\\Local\\Temp\\ipykernel_25580\\4259646263.py:6: FutureWarning: Passing literal html to 'read_html' is deprecated and will be removed in a future version. To read from a literal string, wrap it in a 'StringIO' object.\n",
      "  df=pd.concat([df, pd.read_html(req.text, encoding='euc-kr')[0]], ignore_index=True)\n",
      "C:\\Users\\user\\AppData\\Local\\Temp\\ipykernel_25580\\4259646263.py:6: FutureWarning: Passing literal html to 'read_html' is deprecated and will be removed in a future version. To read from a literal string, wrap it in a 'StringIO' object.\n",
      "  df=pd.concat([df, pd.read_html(req.text, encoding='euc-kr')[0]], ignore_index=True)\n",
      "C:\\Users\\user\\AppData\\Local\\Temp\\ipykernel_25580\\4259646263.py:6: FutureWarning: Passing literal html to 'read_html' is deprecated and will be removed in a future version. To read from a literal string, wrap it in a 'StringIO' object.\n",
      "  df=pd.concat([df, pd.read_html(req.text, encoding='euc-kr')[0]], ignore_index=True)\n",
      "C:\\Users\\user\\AppData\\Local\\Temp\\ipykernel_25580\\4259646263.py:6: FutureWarning: Passing literal html to 'read_html' is deprecated and will be removed in a future version. To read from a literal string, wrap it in a 'StringIO' object.\n",
      "  df=pd.concat([df, pd.read_html(req.text, encoding='euc-kr')[0]], ignore_index=True)\n",
      "C:\\Users\\user\\AppData\\Local\\Temp\\ipykernel_25580\\4259646263.py:6: FutureWarning: Passing literal html to 'read_html' is deprecated and will be removed in a future version. To read from a literal string, wrap it in a 'StringIO' object.\n",
      "  df=pd.concat([df, pd.read_html(req.text, encoding='euc-kr')[0]], ignore_index=True)\n",
      "C:\\Users\\user\\AppData\\Local\\Temp\\ipykernel_25580\\4259646263.py:6: FutureWarning: Passing literal html to 'read_html' is deprecated and will be removed in a future version. To read from a literal string, wrap it in a 'StringIO' object.\n",
      "  df=pd.concat([df, pd.read_html(req.text, encoding='euc-kr')[0]], ignore_index=True)\n",
      "C:\\Users\\user\\AppData\\Local\\Temp\\ipykernel_25580\\4259646263.py:6: FutureWarning: Passing literal html to 'read_html' is deprecated and will be removed in a future version. To read from a literal string, wrap it in a 'StringIO' object.\n",
      "  df=pd.concat([df, pd.read_html(req.text, encoding='euc-kr')[0]], ignore_index=True)\n",
      "C:\\Users\\user\\AppData\\Local\\Temp\\ipykernel_25580\\4259646263.py:6: FutureWarning: Passing literal html to 'read_html' is deprecated and will be removed in a future version. To read from a literal string, wrap it in a 'StringIO' object.\n",
      "  df=pd.concat([df, pd.read_html(req.text, encoding='euc-kr')[0]], ignore_index=True)\n",
      "C:\\Users\\user\\AppData\\Local\\Temp\\ipykernel_25580\\4259646263.py:6: FutureWarning: Passing literal html to 'read_html' is deprecated and will be removed in a future version. To read from a literal string, wrap it in a 'StringIO' object.\n",
      "  df=pd.concat([df, pd.read_html(req.text, encoding='euc-kr')[0]], ignore_index=True)\n",
      "C:\\Users\\user\\AppData\\Local\\Temp\\ipykernel_25580\\4259646263.py:6: FutureWarning: Passing literal html to 'read_html' is deprecated and will be removed in a future version. To read from a literal string, wrap it in a 'StringIO' object.\n",
      "  df=pd.concat([df, pd.read_html(req.text, encoding='euc-kr')[0]], ignore_index=True)\n"
     ]
    }
   ],
   "source": [
    "df=None\n",
    "headers={'User-agent':'Mozilla/5.0'}\n",
    "\n",
    "for page in range(1, 11):\n",
    "    req=requests.get(f'{url}&page={page}',headers=headers)\n",
    "    df=pd.concat([df, pd.read_html(req.text, encoding='euc-kr')[0]], ignore_index=True)"
   ]
  },
  {
   "cell_type": "code",
   "execution_count": 29,
   "metadata": {},
   "outputs": [
    {
     "data": {
      "text/html": [
       "<div>\n",
       "<style scoped>\n",
       "    .dataframe tbody tr th:only-of-type {\n",
       "        vertical-align: middle;\n",
       "    }\n",
       "\n",
       "    .dataframe tbody tr th {\n",
       "        vertical-align: top;\n",
       "    }\n",
       "\n",
       "    .dataframe thead th {\n",
       "        text-align: right;\n",
       "    }\n",
       "</style>\n",
       "<table border=\"1\" class=\"dataframe\">\n",
       "  <thead>\n",
       "    <tr style=\"text-align: right;\">\n",
       "      <th></th>\n",
       "      <th>0</th>\n",
       "      <th>1</th>\n",
       "      <th>2</th>\n",
       "    </tr>\n",
       "  </thead>\n",
       "  <tbody>\n",
       "    <tr>\n",
       "      <th>0</th>\n",
       "      <td>전일  76,600  76,600</td>\n",
       "      <td>고가  77,90077,900  (상한가  99,50099,500  )</td>\n",
       "      <td>거래량  19,270,703  19,270,704</td>\n",
       "    </tr>\n",
       "    <tr>\n",
       "      <th>1</th>\n",
       "      <td>시가  76,70076,700</td>\n",
       "      <td>저가  76,50076,500  (하한가  53,700  )</td>\n",
       "      <td>거래대금  1,492,502  1,492,502  백만</td>\n",
       "    </tr>\n",
       "    <tr>\n",
       "      <th>2</th>\n",
       "      <td>전일  76,600  76,600</td>\n",
       "      <td>고가  77,90077,900  (상한가  99,50099,500  )</td>\n",
       "      <td>거래량  19,270,703  19,270,704</td>\n",
       "    </tr>\n",
       "    <tr>\n",
       "      <th>3</th>\n",
       "      <td>시가  76,70076,700</td>\n",
       "      <td>저가  76,50076,500  (하한가  53,700  )</td>\n",
       "      <td>거래대금  1,492,502  1,492,502  백만</td>\n",
       "    </tr>\n",
       "    <tr>\n",
       "      <th>4</th>\n",
       "      <td>전일  76,600  76,600</td>\n",
       "      <td>고가  77,90077,900  (상한가  99,50099,500  )</td>\n",
       "      <td>거래량  19,270,703  19,270,704</td>\n",
       "    </tr>\n",
       "    <tr>\n",
       "      <th>5</th>\n",
       "      <td>시가  76,70076,700</td>\n",
       "      <td>저가  76,50076,500  (하한가  53,700  )</td>\n",
       "      <td>거래대금  1,492,502  1,492,502  백만</td>\n",
       "    </tr>\n",
       "    <tr>\n",
       "      <th>6</th>\n",
       "      <td>전일  76,600  76,600</td>\n",
       "      <td>고가  77,90077,900  (상한가  99,50099,500  )</td>\n",
       "      <td>거래량  19,270,703  19,270,704</td>\n",
       "    </tr>\n",
       "    <tr>\n",
       "      <th>7</th>\n",
       "      <td>시가  76,70076,700</td>\n",
       "      <td>저가  76,50076,500  (하한가  53,700  )</td>\n",
       "      <td>거래대금  1,492,502  1,492,502  백만</td>\n",
       "    </tr>\n",
       "    <tr>\n",
       "      <th>8</th>\n",
       "      <td>전일  76,600  76,600</td>\n",
       "      <td>고가  77,90077,900  (상한가  99,50099,500  )</td>\n",
       "      <td>거래량  19,270,703  19,270,704</td>\n",
       "    </tr>\n",
       "    <tr>\n",
       "      <th>9</th>\n",
       "      <td>시가  76,70076,700</td>\n",
       "      <td>저가  76,50076,500  (하한가  53,700  )</td>\n",
       "      <td>거래대금  1,492,502  1,492,502  백만</td>\n",
       "    </tr>\n",
       "    <tr>\n",
       "      <th>10</th>\n",
       "      <td>전일  76,600  76,600</td>\n",
       "      <td>고가  77,90077,900  (상한가  99,50099,500  )</td>\n",
       "      <td>거래량  19,270,703  19,270,704</td>\n",
       "    </tr>\n",
       "    <tr>\n",
       "      <th>11</th>\n",
       "      <td>시가  76,70076,700</td>\n",
       "      <td>저가  76,50076,500  (하한가  53,700  )</td>\n",
       "      <td>거래대금  1,492,502  1,492,502  백만</td>\n",
       "    </tr>\n",
       "    <tr>\n",
       "      <th>12</th>\n",
       "      <td>전일  76,600  76,600</td>\n",
       "      <td>고가  77,90077,900  (상한가  99,50099,500  )</td>\n",
       "      <td>거래량  19,270,703  19,270,704</td>\n",
       "    </tr>\n",
       "    <tr>\n",
       "      <th>13</th>\n",
       "      <td>시가  76,70076,700</td>\n",
       "      <td>저가  76,50076,500  (하한가  53,700  )</td>\n",
       "      <td>거래대금  1,492,502  1,492,502  백만</td>\n",
       "    </tr>\n",
       "    <tr>\n",
       "      <th>14</th>\n",
       "      <td>전일  76,600  76,600</td>\n",
       "      <td>고가  77,90077,900  (상한가  99,50099,500  )</td>\n",
       "      <td>거래량  19,270,703  19,270,704</td>\n",
       "    </tr>\n",
       "    <tr>\n",
       "      <th>15</th>\n",
       "      <td>시가  76,70076,700</td>\n",
       "      <td>저가  76,50076,500  (하한가  53,700  )</td>\n",
       "      <td>거래대금  1,492,502  1,492,502  백만</td>\n",
       "    </tr>\n",
       "    <tr>\n",
       "      <th>16</th>\n",
       "      <td>전일  76,600  76,600</td>\n",
       "      <td>고가  77,90077,900  (상한가  99,50099,500  )</td>\n",
       "      <td>거래량  19,270,703  19,270,704</td>\n",
       "    </tr>\n",
       "    <tr>\n",
       "      <th>17</th>\n",
       "      <td>시가  76,70076,700</td>\n",
       "      <td>저가  76,50076,500  (하한가  53,700  )</td>\n",
       "      <td>거래대금  1,492,502  1,492,502  백만</td>\n",
       "    </tr>\n",
       "    <tr>\n",
       "      <th>18</th>\n",
       "      <td>전일  76,600  76,600</td>\n",
       "      <td>고가  77,90077,900  (상한가  99,50099,500  )</td>\n",
       "      <td>거래량  19,270,703  19,270,704</td>\n",
       "    </tr>\n",
       "    <tr>\n",
       "      <th>19</th>\n",
       "      <td>시가  76,70076,700</td>\n",
       "      <td>저가  76,50076,500  (하한가  53,700  )</td>\n",
       "      <td>거래대금  1,492,502  1,492,502  백만</td>\n",
       "    </tr>\n",
       "  </tbody>\n",
       "</table>\n",
       "</div>"
      ],
      "text/plain": [
       "                     0                                        1  \\\n",
       "0   전일  76,600  76,600  고가  77,90077,900  (상한가  99,50099,500  )   \n",
       "1     시가  76,70076,700        저가  76,50076,500  (하한가  53,700  )   \n",
       "2   전일  76,600  76,600  고가  77,90077,900  (상한가  99,50099,500  )   \n",
       "3     시가  76,70076,700        저가  76,50076,500  (하한가  53,700  )   \n",
       "4   전일  76,600  76,600  고가  77,90077,900  (상한가  99,50099,500  )   \n",
       "5     시가  76,70076,700        저가  76,50076,500  (하한가  53,700  )   \n",
       "6   전일  76,600  76,600  고가  77,90077,900  (상한가  99,50099,500  )   \n",
       "7     시가  76,70076,700        저가  76,50076,500  (하한가  53,700  )   \n",
       "8   전일  76,600  76,600  고가  77,90077,900  (상한가  99,50099,500  )   \n",
       "9     시가  76,70076,700        저가  76,50076,500  (하한가  53,700  )   \n",
       "10  전일  76,600  76,600  고가  77,90077,900  (상한가  99,50099,500  )   \n",
       "11    시가  76,70076,700        저가  76,50076,500  (하한가  53,700  )   \n",
       "12  전일  76,600  76,600  고가  77,90077,900  (상한가  99,50099,500  )   \n",
       "13    시가  76,70076,700        저가  76,50076,500  (하한가  53,700  )   \n",
       "14  전일  76,600  76,600  고가  77,90077,900  (상한가  99,50099,500  )   \n",
       "15    시가  76,70076,700        저가  76,50076,500  (하한가  53,700  )   \n",
       "16  전일  76,600  76,600  고가  77,90077,900  (상한가  99,50099,500  )   \n",
       "17    시가  76,70076,700        저가  76,50076,500  (하한가  53,700  )   \n",
       "18  전일  76,600  76,600  고가  77,90077,900  (상한가  99,50099,500  )   \n",
       "19    시가  76,70076,700        저가  76,50076,500  (하한가  53,700  )   \n",
       "\n",
       "                                 2  \n",
       "0      거래량  19,270,703  19,270,704  \n",
       "1   거래대금  1,492,502  1,492,502  백만  \n",
       "2      거래량  19,270,703  19,270,704  \n",
       "3   거래대금  1,492,502  1,492,502  백만  \n",
       "4      거래량  19,270,703  19,270,704  \n",
       "5   거래대금  1,492,502  1,492,502  백만  \n",
       "6      거래량  19,270,703  19,270,704  \n",
       "7   거래대금  1,492,502  1,492,502  백만  \n",
       "8      거래량  19,270,703  19,270,704  \n",
       "9   거래대금  1,492,502  1,492,502  백만  \n",
       "10     거래량  19,270,703  19,270,704  \n",
       "11  거래대금  1,492,502  1,492,502  백만  \n",
       "12     거래량  19,270,703  19,270,704  \n",
       "13  거래대금  1,492,502  1,492,502  백만  \n",
       "14     거래량  19,270,703  19,270,704  \n",
       "15  거래대금  1,492,502  1,492,502  백만  \n",
       "16     거래량  19,270,703  19,270,704  \n",
       "17  거래대금  1,492,502  1,492,502  백만  \n",
       "18     거래량  19,270,703  19,270,704  \n",
       "19  거래대금  1,492,502  1,492,502  백만  "
      ]
     },
     "execution_count": 29,
     "metadata": {},
     "output_type": "execute_result"
    }
   ],
   "source": [
    "df"
   ]
  },
  {
   "cell_type": "code",
   "execution_count": 30,
   "metadata": {},
   "outputs": [],
   "source": [
    "df.dropna(inplace=True)\n",
    "\n",
    "df.reset_index(drop=True, inplace=True)"
   ]
  },
  {
   "cell_type": "code",
   "execution_count": 31,
   "metadata": {},
   "outputs": [
    {
     "data": {
      "text/html": [
       "<div>\n",
       "<style scoped>\n",
       "    .dataframe tbody tr th:only-of-type {\n",
       "        vertical-align: middle;\n",
       "    }\n",
       "\n",
       "    .dataframe tbody tr th {\n",
       "        vertical-align: top;\n",
       "    }\n",
       "\n",
       "    .dataframe thead th {\n",
       "        text-align: right;\n",
       "    }\n",
       "</style>\n",
       "<table border=\"1\" class=\"dataframe\">\n",
       "  <thead>\n",
       "    <tr style=\"text-align: right;\">\n",
       "      <th></th>\n",
       "      <th>0</th>\n",
       "      <th>1</th>\n",
       "      <th>2</th>\n",
       "    </tr>\n",
       "  </thead>\n",
       "  <tbody>\n",
       "    <tr>\n",
       "      <th>0</th>\n",
       "      <td>전일  76,600  76,600</td>\n",
       "      <td>고가  77,90077,900  (상한가  99,50099,500  )</td>\n",
       "      <td>거래량  19,270,703  19,270,704</td>\n",
       "    </tr>\n",
       "    <tr>\n",
       "      <th>1</th>\n",
       "      <td>시가  76,70076,700</td>\n",
       "      <td>저가  76,50076,500  (하한가  53,700  )</td>\n",
       "      <td>거래대금  1,492,502  1,492,502  백만</td>\n",
       "    </tr>\n",
       "    <tr>\n",
       "      <th>2</th>\n",
       "      <td>전일  76,600  76,600</td>\n",
       "      <td>고가  77,90077,900  (상한가  99,50099,500  )</td>\n",
       "      <td>거래량  19,270,703  19,270,704</td>\n",
       "    </tr>\n",
       "    <tr>\n",
       "      <th>3</th>\n",
       "      <td>시가  76,70076,700</td>\n",
       "      <td>저가  76,50076,500  (하한가  53,700  )</td>\n",
       "      <td>거래대금  1,492,502  1,492,502  백만</td>\n",
       "    </tr>\n",
       "    <tr>\n",
       "      <th>4</th>\n",
       "      <td>전일  76,600  76,600</td>\n",
       "      <td>고가  77,90077,900  (상한가  99,50099,500  )</td>\n",
       "      <td>거래량  19,270,703  19,270,704</td>\n",
       "    </tr>\n",
       "    <tr>\n",
       "      <th>5</th>\n",
       "      <td>시가  76,70076,700</td>\n",
       "      <td>저가  76,50076,500  (하한가  53,700  )</td>\n",
       "      <td>거래대금  1,492,502  1,492,502  백만</td>\n",
       "    </tr>\n",
       "    <tr>\n",
       "      <th>6</th>\n",
       "      <td>전일  76,600  76,600</td>\n",
       "      <td>고가  77,90077,900  (상한가  99,50099,500  )</td>\n",
       "      <td>거래량  19,270,703  19,270,704</td>\n",
       "    </tr>\n",
       "    <tr>\n",
       "      <th>7</th>\n",
       "      <td>시가  76,70076,700</td>\n",
       "      <td>저가  76,50076,500  (하한가  53,700  )</td>\n",
       "      <td>거래대금  1,492,502  1,492,502  백만</td>\n",
       "    </tr>\n",
       "    <tr>\n",
       "      <th>8</th>\n",
       "      <td>전일  76,600  76,600</td>\n",
       "      <td>고가  77,90077,900  (상한가  99,50099,500  )</td>\n",
       "      <td>거래량  19,270,703  19,270,704</td>\n",
       "    </tr>\n",
       "    <tr>\n",
       "      <th>9</th>\n",
       "      <td>시가  76,70076,700</td>\n",
       "      <td>저가  76,50076,500  (하한가  53,700  )</td>\n",
       "      <td>거래대금  1,492,502  1,492,502  백만</td>\n",
       "    </tr>\n",
       "    <tr>\n",
       "      <th>10</th>\n",
       "      <td>전일  76,600  76,600</td>\n",
       "      <td>고가  77,90077,900  (상한가  99,50099,500  )</td>\n",
       "      <td>거래량  19,270,703  19,270,704</td>\n",
       "    </tr>\n",
       "    <tr>\n",
       "      <th>11</th>\n",
       "      <td>시가  76,70076,700</td>\n",
       "      <td>저가  76,50076,500  (하한가  53,700  )</td>\n",
       "      <td>거래대금  1,492,502  1,492,502  백만</td>\n",
       "    </tr>\n",
       "    <tr>\n",
       "      <th>12</th>\n",
       "      <td>전일  76,600  76,600</td>\n",
       "      <td>고가  77,90077,900  (상한가  99,50099,500  )</td>\n",
       "      <td>거래량  19,270,703  19,270,704</td>\n",
       "    </tr>\n",
       "    <tr>\n",
       "      <th>13</th>\n",
       "      <td>시가  76,70076,700</td>\n",
       "      <td>저가  76,50076,500  (하한가  53,700  )</td>\n",
       "      <td>거래대금  1,492,502  1,492,502  백만</td>\n",
       "    </tr>\n",
       "    <tr>\n",
       "      <th>14</th>\n",
       "      <td>전일  76,600  76,600</td>\n",
       "      <td>고가  77,90077,900  (상한가  99,50099,500  )</td>\n",
       "      <td>거래량  19,270,703  19,270,704</td>\n",
       "    </tr>\n",
       "    <tr>\n",
       "      <th>15</th>\n",
       "      <td>시가  76,70076,700</td>\n",
       "      <td>저가  76,50076,500  (하한가  53,700  )</td>\n",
       "      <td>거래대금  1,492,502  1,492,502  백만</td>\n",
       "    </tr>\n",
       "    <tr>\n",
       "      <th>16</th>\n",
       "      <td>전일  76,600  76,600</td>\n",
       "      <td>고가  77,90077,900  (상한가  99,50099,500  )</td>\n",
       "      <td>거래량  19,270,703  19,270,704</td>\n",
       "    </tr>\n",
       "    <tr>\n",
       "      <th>17</th>\n",
       "      <td>시가  76,70076,700</td>\n",
       "      <td>저가  76,50076,500  (하한가  53,700  )</td>\n",
       "      <td>거래대금  1,492,502  1,492,502  백만</td>\n",
       "    </tr>\n",
       "    <tr>\n",
       "      <th>18</th>\n",
       "      <td>전일  76,600  76,600</td>\n",
       "      <td>고가  77,90077,900  (상한가  99,50099,500  )</td>\n",
       "      <td>거래량  19,270,703  19,270,704</td>\n",
       "    </tr>\n",
       "    <tr>\n",
       "      <th>19</th>\n",
       "      <td>시가  76,70076,700</td>\n",
       "      <td>저가  76,50076,500  (하한가  53,700  )</td>\n",
       "      <td>거래대금  1,492,502  1,492,502  백만</td>\n",
       "    </tr>\n",
       "  </tbody>\n",
       "</table>\n",
       "</div>"
      ],
      "text/plain": [
       "                     0                                        1  \\\n",
       "0   전일  76,600  76,600  고가  77,90077,900  (상한가  99,50099,500  )   \n",
       "1     시가  76,70076,700        저가  76,50076,500  (하한가  53,700  )   \n",
       "2   전일  76,600  76,600  고가  77,90077,900  (상한가  99,50099,500  )   \n",
       "3     시가  76,70076,700        저가  76,50076,500  (하한가  53,700  )   \n",
       "4   전일  76,600  76,600  고가  77,90077,900  (상한가  99,50099,500  )   \n",
       "5     시가  76,70076,700        저가  76,50076,500  (하한가  53,700  )   \n",
       "6   전일  76,600  76,600  고가  77,90077,900  (상한가  99,50099,500  )   \n",
       "7     시가  76,70076,700        저가  76,50076,500  (하한가  53,700  )   \n",
       "8   전일  76,600  76,600  고가  77,90077,900  (상한가  99,50099,500  )   \n",
       "9     시가  76,70076,700        저가  76,50076,500  (하한가  53,700  )   \n",
       "10  전일  76,600  76,600  고가  77,90077,900  (상한가  99,50099,500  )   \n",
       "11    시가  76,70076,700        저가  76,50076,500  (하한가  53,700  )   \n",
       "12  전일  76,600  76,600  고가  77,90077,900  (상한가  99,50099,500  )   \n",
       "13    시가  76,70076,700        저가  76,50076,500  (하한가  53,700  )   \n",
       "14  전일  76,600  76,600  고가  77,90077,900  (상한가  99,50099,500  )   \n",
       "15    시가  76,70076,700        저가  76,50076,500  (하한가  53,700  )   \n",
       "16  전일  76,600  76,600  고가  77,90077,900  (상한가  99,50099,500  )   \n",
       "17    시가  76,70076,700        저가  76,50076,500  (하한가  53,700  )   \n",
       "18  전일  76,600  76,600  고가  77,90077,900  (상한가  99,50099,500  )   \n",
       "19    시가  76,70076,700        저가  76,50076,500  (하한가  53,700  )   \n",
       "\n",
       "                                 2  \n",
       "0      거래량  19,270,703  19,270,704  \n",
       "1   거래대금  1,492,502  1,492,502  백만  \n",
       "2      거래량  19,270,703  19,270,704  \n",
       "3   거래대금  1,492,502  1,492,502  백만  \n",
       "4      거래량  19,270,703  19,270,704  \n",
       "5   거래대금  1,492,502  1,492,502  백만  \n",
       "6      거래량  19,270,703  19,270,704  \n",
       "7   거래대금  1,492,502  1,492,502  백만  \n",
       "8      거래량  19,270,703  19,270,704  \n",
       "9   거래대금  1,492,502  1,492,502  백만  \n",
       "10     거래량  19,270,703  19,270,704  \n",
       "11  거래대금  1,492,502  1,492,502  백만  \n",
       "12     거래량  19,270,703  19,270,704  \n",
       "13  거래대금  1,492,502  1,492,502  백만  \n",
       "14     거래량  19,270,703  19,270,704  \n",
       "15  거래대금  1,492,502  1,492,502  백만  \n",
       "16     거래량  19,270,703  19,270,704  \n",
       "17  거래대금  1,492,502  1,492,502  백만  \n",
       "18     거래량  19,270,703  19,270,704  \n",
       "19  거래대금  1,492,502  1,492,502  백만  "
      ]
     },
     "execution_count": 31,
     "metadata": {},
     "output_type": "execute_result"
    }
   ],
   "source": [
    "df"
   ]
  },
  {
   "cell_type": "code",
   "execution_count": 33,
   "metadata": {},
   "outputs": [
    {
     "name": "stdout",
     "output_type": "stream",
     "text": [
      "Note: you may need to restart the kernel to use updated packages.\n"
     ]
    }
   ],
   "source": [
    "%pip install pykrx --q"
   ]
  },
  {
   "cell_type": "code",
   "execution_count": 35,
   "metadata": {},
   "outputs": [
    {
     "data": {
      "text/html": [
       "<div>\n",
       "<style scoped>\n",
       "    .dataframe tbody tr th:only-of-type {\n",
       "        vertical-align: middle;\n",
       "    }\n",
       "\n",
       "    .dataframe tbody tr th {\n",
       "        vertical-align: top;\n",
       "    }\n",
       "\n",
       "    .dataframe thead th {\n",
       "        text-align: right;\n",
       "    }\n",
       "</style>\n",
       "<table border=\"1\" class=\"dataframe\">\n",
       "  <thead>\n",
       "    <tr style=\"text-align: right;\">\n",
       "      <th></th>\n",
       "      <th>시가</th>\n",
       "      <th>고가</th>\n",
       "      <th>저가</th>\n",
       "      <th>종가</th>\n",
       "      <th>거래량</th>\n",
       "      <th>등락률</th>\n",
       "    </tr>\n",
       "    <tr>\n",
       "      <th>날짜</th>\n",
       "      <th></th>\n",
       "      <th></th>\n",
       "      <th></th>\n",
       "      <th></th>\n",
       "      <th></th>\n",
       "      <th></th>\n",
       "    </tr>\n",
       "  </thead>\n",
       "  <tbody>\n",
       "    <tr>\n",
       "      <th>2020-01-02</th>\n",
       "      <td>55500</td>\n",
       "      <td>56000</td>\n",
       "      <td>55000</td>\n",
       "      <td>55200</td>\n",
       "      <td>12993228</td>\n",
       "      <td>-1.075269</td>\n",
       "    </tr>\n",
       "    <tr>\n",
       "      <th>2020-01-03</th>\n",
       "      <td>56000</td>\n",
       "      <td>56600</td>\n",
       "      <td>54900</td>\n",
       "      <td>55500</td>\n",
       "      <td>15422255</td>\n",
       "      <td>0.543478</td>\n",
       "    </tr>\n",
       "    <tr>\n",
       "      <th>2020-01-06</th>\n",
       "      <td>54900</td>\n",
       "      <td>55600</td>\n",
       "      <td>54600</td>\n",
       "      <td>55500</td>\n",
       "      <td>10278951</td>\n",
       "      <td>0.000000</td>\n",
       "    </tr>\n",
       "    <tr>\n",
       "      <th>2020-01-07</th>\n",
       "      <td>55700</td>\n",
       "      <td>56400</td>\n",
       "      <td>55600</td>\n",
       "      <td>55800</td>\n",
       "      <td>10009778</td>\n",
       "      <td>0.540541</td>\n",
       "    </tr>\n",
       "    <tr>\n",
       "      <th>2020-01-08</th>\n",
       "      <td>56200</td>\n",
       "      <td>57400</td>\n",
       "      <td>55900</td>\n",
       "      <td>56800</td>\n",
       "      <td>23501171</td>\n",
       "      <td>1.792115</td>\n",
       "    </tr>\n",
       "    <tr>\n",
       "      <th>...</th>\n",
       "      <td>...</td>\n",
       "      <td>...</td>\n",
       "      <td>...</td>\n",
       "      <td>...</td>\n",
       "      <td>...</td>\n",
       "      <td>...</td>\n",
       "    </tr>\n",
       "    <tr>\n",
       "      <th>2023-11-27</th>\n",
       "      <td>71500</td>\n",
       "      <td>72100</td>\n",
       "      <td>71100</td>\n",
       "      <td>71300</td>\n",
       "      <td>9113857</td>\n",
       "      <td>-0.557880</td>\n",
       "    </tr>\n",
       "    <tr>\n",
       "      <th>2023-11-28</th>\n",
       "      <td>71400</td>\n",
       "      <td>72700</td>\n",
       "      <td>71300</td>\n",
       "      <td>72700</td>\n",
       "      <td>13283081</td>\n",
       "      <td>1.963534</td>\n",
       "    </tr>\n",
       "    <tr>\n",
       "      <th>2023-11-29</th>\n",
       "      <td>72400</td>\n",
       "      <td>72800</td>\n",
       "      <td>72200</td>\n",
       "      <td>72700</td>\n",
       "      <td>9283933</td>\n",
       "      <td>0.000000</td>\n",
       "    </tr>\n",
       "    <tr>\n",
       "      <th>2023-11-30</th>\n",
       "      <td>72700</td>\n",
       "      <td>72800</td>\n",
       "      <td>72200</td>\n",
       "      <td>72800</td>\n",
       "      <td>15783714</td>\n",
       "      <td>0.137552</td>\n",
       "    </tr>\n",
       "    <tr>\n",
       "      <th>2023-12-01</th>\n",
       "      <td>72400</td>\n",
       "      <td>72500</td>\n",
       "      <td>71700</td>\n",
       "      <td>72000</td>\n",
       "      <td>9871284</td>\n",
       "      <td>-1.098901</td>\n",
       "    </tr>\n",
       "  </tbody>\n",
       "</table>\n",
       "<p>969 rows × 6 columns</p>\n",
       "</div>"
      ],
      "text/plain": [
       "               시가     고가     저가     종가       거래량       등락률\n",
       "날짜                                                        \n",
       "2020-01-02  55500  56000  55000  55200  12993228 -1.075269\n",
       "2020-01-03  56000  56600  54900  55500  15422255  0.543478\n",
       "2020-01-06  54900  55600  54600  55500  10278951  0.000000\n",
       "2020-01-07  55700  56400  55600  55800  10009778  0.540541\n",
       "2020-01-08  56200  57400  55900  56800  23501171  1.792115\n",
       "...           ...    ...    ...    ...       ...       ...\n",
       "2023-11-27  71500  72100  71100  71300   9113857 -0.557880\n",
       "2023-11-28  71400  72700  71300  72700  13283081  1.963534\n",
       "2023-11-29  72400  72800  72200  72700   9283933  0.000000\n",
       "2023-11-30  72700  72800  72200  72800  15783714  0.137552\n",
       "2023-12-01  72400  72500  71700  72000   9871284 -1.098901\n",
       "\n",
       "[969 rows x 6 columns]"
      ]
     },
     "metadata": {},
     "output_type": "display_data"
    }
   ],
   "source": [
    "# !pip install pykrx --q\n",
    "\n",
    "from pykrx import stock\n",
    "\n",
    "data = stock.get_market_ohlcv_by_date('20200101', '20231201', df_krx.iloc[0].Code)\n",
    "display(data)"
   ]
  }
 ],
 "metadata": {
  "kernelspec": {
   "display_name": "bigproject",
   "language": "python",
   "name": "python3"
  },
  "language_info": {
   "codemirror_mode": {
    "name": "ipython",
    "version": 3
   },
   "file_extension": ".py",
   "mimetype": "text/x-python",
   "name": "python",
   "nbconvert_exporter": "python",
   "pygments_lexer": "ipython3",
   "version": "3.11.5"
  }
 },
 "nbformat": 4,
 "nbformat_minor": 2
}
