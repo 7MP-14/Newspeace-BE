{
 "cells": [
  {
   "cell_type": "code",
   "execution_count": 25,
   "metadata": {},
   "outputs": [],
   "source": [
    "import requests\n",
    "import pandas as pd\n",
    "from bs4 import BeautifulSoup\n",
    "from datetime import datetime, timedelta\n",
    "from concurrent.futures import ProcessPoolExecutor\n",
    "import random\n",
    "from sqlalchemy import create_engine\n",
    "from sqlalchemy.sql import text\n",
    "\n",
    "# 기사를 크롤링하는 함수\n",
    "def crawling(press, start_time):\n",
    "    items = []\n",
    "    i = 1\n",
    "    # while 4 > i:  # test용 반복\n",
    "    while i >= 1:\n",
    "        url = f\"https://news.naver.com/main/list.naver?mode=LPOD&mid=sec&oid={press}&page={i}\"\n",
    "        response = requests.get(url)\n",
    "        dom = BeautifulSoup(response.text, 'lxml')  # html.parser -> lxml 속도 개선\n",
    "        elements = dom.select('#main_content > div.list_body.newsflash_body > ul.type06_headline > li')\n",
    "        stop_check = False  # 크롤링 중단 여부 체크\n",
    "\n",
    "        # 마지막 페이지까지 도달했을 경우 while문 종료\n",
    "        if int(dom.select_one('#main_content > div.paging > strong').text) != i:    \n",
    "            break\n",
    "        \n",
    "        # print(i, '페이지까지 했음')\n",
    "        for element in elements:\n",
    "            link = element.select_one('dl > dt > a').get('href')\n",
    "            result_detail = detail(link, start_time)\n",
    "\n",
    "            # 기준 시간(start_time) 이후에 작성된 기사인 경우\n",
    "            if result_detail is not None:\n",
    "                items.append({\n",
    "                'title':result_detail[0],\n",
    "                'detail': result_detail[1],\n",
    "                'category': result_detail[2],\n",
    "                'link':link,\n",
    "                'img': result_detail[3],\n",
    "                'create_dt': datetime.now(),\n",
    "                'write_dt': result_detail[4],\n",
    "                'media': press,\n",
    "            })\n",
    "            # 기준 시간(start_time) 이전에 작성된 기사인 경우\n",
    "            else:\n",
    "                stop_check = True\n",
    "                break\n",
    "        if stop_check:\n",
    "            break\n",
    "        i += 1\n",
    "\n",
    "    df = pd.DataFrame(items)\n",
    "    return df\n",
    "\n",
    "\n",
    "# 해당 링크에 들어가서 기사 데이터 가져오는 함수\n",
    "def detail(url, start_time):\n",
    "    response = requests.get(url)\n",
    "    dom = BeautifulSoup(response.text, 'lxml')  # html.parser -> lxml 속도 개선\n",
    "\n",
    "    time = dom.select_one('div.media_end_head_info_datestamp > div > span').get('data-date-time')   # \"2024-03-03 22:18:05\"\n",
    "    time = datetime.strptime(time, \"%Y-%m-%d %H:%M:%S\")\n",
    "\n",
    "        \n",
    "    # 기준 시간(start_time) 이후에 작성된 기사인 경우\n",
    "    if start_time <= time:\n",
    "        title = dom.select_one('#title_area > span').text\n",
    "        detail = dom.select_one('#dic_area').text.strip()       # strip() : 앞뒤 공백 제거\n",
    "        # 이미지가 있으면 가져오기\n",
    "        try:\n",
    "            img = dom.select_one('#img1').get('data-src')\n",
    "        except:\n",
    "            img = None\n",
    "\n",
    "        # 카테고리 가져올때 에러 예시\n",
    "        # https://n.news.naver.com/mnews/article/005/0001678611\n",
    "        try:\n",
    "            category = dom.select_one('#_LNB > ul > li.Nlist_item._LNB_ITEM.is_active > a > span').text     # 네이버 상단 카테고리\n",
    "        except:\n",
    "            category = None\n",
    "        # category2 = dom.select_one('#contents > div.media_end_categorize > a > em').text                # 이 기사는 언론사에서 '' 섹션으로 분류했습니다. \n",
    "        \n",
    "        return title, detail, category, img, time\n",
    "    # 기준 시간(start_time) 이전에 작성된 기사인 경우\n",
    "    else:\n",
    "        # print('여기실행')\n",
    "        return"
   ]
  },
  {
   "cell_type": "code",
   "execution_count": 26,
   "metadata": {},
   "outputs": [
    {
     "ename": "AttributeError",
     "evalue": "'NoneType' object has no attribute 'text'",
     "output_type": "error",
     "traceback": [
      "\u001b[1;31m---------------------------------------------------------------------------\u001b[0m",
      "\u001b[1;31mAttributeError\u001b[0m                            Traceback (most recent call last)",
      "\u001b[1;32m<ipython-input-26-21e283741362>\u001b[0m in \u001b[0;36m<module>\u001b[1;34m\u001b[0m\n\u001b[0;32m      8\u001b[0m \u001b[1;32mfor\u001b[0m \u001b[0mi\u001b[0m \u001b[1;32min\u001b[0m \u001b[0mpress_list\u001b[0m\u001b[1;33m:\u001b[0m\u001b[1;33m\u001b[0m\u001b[1;33m\u001b[0m\u001b[0m\n\u001b[0;32m      9\u001b[0m     \u001b[1;31m# try:\u001b[0m\u001b[1;33m\u001b[0m\u001b[1;33m\u001b[0m\u001b[1;33m\u001b[0m\u001b[0m\n\u001b[1;32m---> 10\u001b[1;33m     \u001b[0ma\u001b[0m \u001b[1;33m=\u001b[0m \u001b[0mcrawling\u001b[0m\u001b[1;33m(\u001b[0m\u001b[0mi\u001b[0m\u001b[1;33m,\u001b[0m\u001b[0mthirty_minutes_ago\u001b[0m\u001b[1;33m)\u001b[0m\u001b[1;33m\u001b[0m\u001b[1;33m\u001b[0m\u001b[0m\n\u001b[0m\u001b[0;32m     11\u001b[0m     \u001b[0mdt\u001b[0m\u001b[1;33m.\u001b[0m\u001b[0mappend\u001b[0m\u001b[1;33m(\u001b[0m\u001b[0ma\u001b[0m\u001b[1;33m.\u001b[0m\u001b[0mwrite_dt\u001b[0m\u001b[1;33m)\u001b[0m\u001b[1;33m\u001b[0m\u001b[1;33m\u001b[0m\u001b[0m\n\u001b[0;32m     12\u001b[0m     \u001b[1;31m# except Exception as e:\u001b[0m\u001b[1;33m\u001b[0m\u001b[1;33m\u001b[0m\u001b[1;33m\u001b[0m\u001b[0m\n",
      "\u001b[1;32m<ipython-input-25-bd67551c8433>\u001b[0m in \u001b[0;36mcrawling\u001b[1;34m(press, start_time)\u001b[0m\n\u001b[0;32m     27\u001b[0m         \u001b[1;32mfor\u001b[0m \u001b[0melement\u001b[0m \u001b[1;32min\u001b[0m \u001b[0melements\u001b[0m\u001b[1;33m:\u001b[0m\u001b[1;33m\u001b[0m\u001b[1;33m\u001b[0m\u001b[0m\n\u001b[0;32m     28\u001b[0m             \u001b[0mlink\u001b[0m \u001b[1;33m=\u001b[0m \u001b[0melement\u001b[0m\u001b[1;33m.\u001b[0m\u001b[0mselect_one\u001b[0m\u001b[1;33m(\u001b[0m\u001b[1;34m'dl > dt > a'\u001b[0m\u001b[1;33m)\u001b[0m\u001b[1;33m.\u001b[0m\u001b[0mget\u001b[0m\u001b[1;33m(\u001b[0m\u001b[1;34m'href'\u001b[0m\u001b[1;33m)\u001b[0m\u001b[1;33m\u001b[0m\u001b[1;33m\u001b[0m\u001b[0m\n\u001b[1;32m---> 29\u001b[1;33m             \u001b[0mresult_detail\u001b[0m \u001b[1;33m=\u001b[0m \u001b[0mdetail\u001b[0m\u001b[1;33m(\u001b[0m\u001b[0mlink\u001b[0m\u001b[1;33m,\u001b[0m \u001b[0mstart_time\u001b[0m\u001b[1;33m)\u001b[0m\u001b[1;33m\u001b[0m\u001b[1;33m\u001b[0m\u001b[0m\n\u001b[0m\u001b[0;32m     30\u001b[0m \u001b[1;33m\u001b[0m\u001b[0m\n\u001b[0;32m     31\u001b[0m             \u001b[1;31m# 기준 시간(start_time) 이후에 작성된 기사인 경우\u001b[0m\u001b[1;33m\u001b[0m\u001b[1;33m\u001b[0m\u001b[1;33m\u001b[0m\u001b[0m\n",
      "\u001b[1;32m<ipython-input-25-bd67551c8433>\u001b[0m in \u001b[0;36mdetail\u001b[1;34m(url, start_time)\u001b[0m\n\u001b[0;32m     65\u001b[0m     \u001b[1;31m# 기준 시간(start_time) 이후에 작성된 기사인 경우\u001b[0m\u001b[1;33m\u001b[0m\u001b[1;33m\u001b[0m\u001b[1;33m\u001b[0m\u001b[0m\n\u001b[0;32m     66\u001b[0m     \u001b[1;32mif\u001b[0m \u001b[0mstart_time\u001b[0m \u001b[1;33m<=\u001b[0m \u001b[0mtime\u001b[0m\u001b[1;33m:\u001b[0m\u001b[1;33m\u001b[0m\u001b[1;33m\u001b[0m\u001b[0m\n\u001b[1;32m---> 67\u001b[1;33m         \u001b[0mtitle\u001b[0m \u001b[1;33m=\u001b[0m \u001b[0mdom\u001b[0m\u001b[1;33m.\u001b[0m\u001b[0mselect_one\u001b[0m\u001b[1;33m(\u001b[0m\u001b[1;34m'#title_area > span'\u001b[0m\u001b[1;33m)\u001b[0m\u001b[1;33m.\u001b[0m\u001b[0mtext\u001b[0m\u001b[1;33m\u001b[0m\u001b[1;33m\u001b[0m\u001b[0m\n\u001b[0m\u001b[0;32m     68\u001b[0m         \u001b[0mdetail\u001b[0m \u001b[1;33m=\u001b[0m \u001b[0mdom\u001b[0m\u001b[1;33m.\u001b[0m\u001b[0mselect_one\u001b[0m\u001b[1;33m(\u001b[0m\u001b[1;34m'#dic_area'\u001b[0m\u001b[1;33m)\u001b[0m\u001b[1;33m.\u001b[0m\u001b[0mtext\u001b[0m\u001b[1;33m.\u001b[0m\u001b[0mstrip\u001b[0m\u001b[1;33m(\u001b[0m\u001b[1;33m)\u001b[0m       \u001b[1;31m# strip() : 앞뒤 공백 제거\u001b[0m\u001b[1;33m\u001b[0m\u001b[1;33m\u001b[0m\u001b[0m\n\u001b[0;32m     69\u001b[0m         \u001b[1;31m# 이미지가 있으면 가져오기\u001b[0m\u001b[1;33m\u001b[0m\u001b[1;33m\u001b[0m\u001b[1;33m\u001b[0m\u001b[0m\n",
      "\u001b[1;31mAttributeError\u001b[0m: 'NoneType' object has no attribute 'text'"
     ]
    }
   ],
   "source": [
    "press_list = ['032', '005', '020', '021', '081', '022', '023', '025', '028', '469']\n",
    "\n",
    "start_current_datetime = datetime.now()\n",
    "thirty_minutes_ago = start_current_datetime - timedelta(minutes=30)   # 30분을 뺀 datetime\n",
    "\n",
    "except_list = []\n",
    "dt = []\n",
    "for i in press_list:\n",
    "    # try:\n",
    "    a = crawling(i,thirty_minutes_ago)\n",
    "    dt.append(a.write_dt)\n",
    "    # except Exception as e:\n",
    "    #     except_list.append(i)"
   ]
  },
  {
   "cell_type": "code",
   "execution_count": 23,
   "metadata": {},
   "outputs": [
    {
     "data": {
      "text/plain": [
       "[]"
      ]
     },
     "execution_count": 23,
     "metadata": {},
     "output_type": "execute_result"
    }
   ],
   "source": [
    "except_list"
   ]
  },
  {
   "cell_type": "code",
   "execution_count": 19,
   "metadata": {},
   "outputs": [
    {
     "data": {
      "text/plain": [
       "['021', '022', '023', '025', '469']"
      ]
     },
     "execution_count": 19,
     "metadata": {},
     "output_type": "execute_result"
    }
   ],
   "source": [
    "except_list"
   ]
  },
  {
   "cell_type": "code",
   "execution_count": 1,
   "metadata": {},
   "outputs": [
    {
     "name": "stdout",
     "output_type": "stream",
     "text": [
      "48 크롤링 시작 : 2024-03-05 21:29:13.974052\n"
     ]
    },
    {
     "name": "stderr",
     "output_type": "stream",
     "text": [
      "Exception in thread Thread-6:\n",
      "Traceback (most recent call last):\n",
      "  File \"c:\\Users\\dltns\\anaconda3\\envs\\local\\lib\\threading.py\", line 916, in _bootstrap_inner\n",
      "    self.run()\n",
      "  File \"c:\\Users\\dltns\\anaconda3\\envs\\local\\lib\\threading.py\", line 864, in run\n",
      "    self._target(*self._args, **self._kwargs)\n",
      "  File \"c:\\Users\\dltns\\anaconda3\\envs\\local\\lib\\concurrent\\futures\\process.py\", line 295, in _queue_management_worker\n",
      "    shutdown_worker()\n",
      "  File \"c:\\Users\\dltns\\anaconda3\\envs\\local\\lib\\concurrent\\futures\\process.py\", line 253, in shutdown_worker\n",
      "    call_queue.put_nowait(None)\n",
      "  File \"c:\\Users\\dltns\\anaconda3\\envs\\local\\lib\\multiprocessing\\queues.py\", line 129, in put_nowait\n",
      "    return self.put(obj, False)\n",
      "  File \"c:\\Users\\dltns\\anaconda3\\envs\\local\\lib\\multiprocessing\\queues.py\", line 83, in put\n",
      "    raise Full\n",
      "queue.Full\n",
      "\n"
     ]
    },
    {
     "ename": "BrokenProcessPool",
     "evalue": "A process in the process pool was terminated abruptly while the future was running or pending.",
     "output_type": "error",
     "traceback": [
      "\u001b[1;31m---------------------------------------------------------------------------\u001b[0m",
      "\u001b[1;31mBrokenProcessPool\u001b[0m                         Traceback (most recent call last)",
      "\u001b[1;32m<ipython-input-1-5df539f051d2>\u001b[0m in \u001b[0;36m<module>\u001b[1;34m\u001b[0m\n\u001b[0;32m    105\u001b[0m \u001b[1;33m\u001b[0m\u001b[0m\n\u001b[0;32m    106\u001b[0m     \u001b[1;32mwith\u001b[0m \u001b[0mProcessPoolExecutor\u001b[0m\u001b[1;33m(\u001b[0m\u001b[0mmax_workers\u001b[0m\u001b[1;33m=\u001b[0m\u001b[0mlen\u001b[0m\u001b[1;33m(\u001b[0m\u001b[0mpress_list\u001b[0m\u001b[1;33m)\u001b[0m\u001b[1;33m)\u001b[0m \u001b[1;32mas\u001b[0m \u001b[0mexecutor\u001b[0m\u001b[1;33m:\u001b[0m\u001b[1;33m\u001b[0m\u001b[1;33m\u001b[0m\u001b[0m\n\u001b[1;32m--> 107\u001b[1;33m         \u001b[0mresults\u001b[0m \u001b[1;33m=\u001b[0m \u001b[0mlist\u001b[0m\u001b[1;33m(\u001b[0m\u001b[0mexecutor\u001b[0m\u001b[1;33m.\u001b[0m\u001b[0mmap\u001b[0m\u001b[1;33m(\u001b[0m\u001b[0mcrawling\u001b[0m\u001b[1;33m,\u001b[0m \u001b[0mpress_list\u001b[0m\u001b[1;33m,\u001b[0m \u001b[1;33m[\u001b[0m\u001b[0mthirty_minutes_ago\u001b[0m\u001b[1;33m]\u001b[0m\u001b[1;33m*\u001b[0m\u001b[0mlen\u001b[0m\u001b[1;33m(\u001b[0m\u001b[0mpress_list\u001b[0m\u001b[1;33m)\u001b[0m\u001b[1;33m)\u001b[0m\u001b[1;33m)\u001b[0m\u001b[1;33m\u001b[0m\u001b[1;33m\u001b[0m\u001b[0m\n\u001b[0m\u001b[0;32m    108\u001b[0m \u001b[1;33m\u001b[0m\u001b[0m\n\u001b[0;32m    109\u001b[0m     \u001b[1;31m# 모든 크롤링 결과를 하나의 데이터프레임으로 합치기\u001b[0m\u001b[1;33m\u001b[0m\u001b[1;33m\u001b[0m\u001b[1;33m\u001b[0m\u001b[0m\n",
      "\u001b[1;32mc:\\Users\\dltns\\anaconda3\\envs\\local\\lib\\concurrent\\futures\\process.py\u001b[0m in \u001b[0;36m_chain_from_iterable_of_lists\u001b[1;34m(iterable)\u001b[0m\n\u001b[0;32m    364\u001b[0m     \u001b[0mcareful\u001b[0m \u001b[1;32mnot\u001b[0m \u001b[0mto\u001b[0m \u001b[0mkeep\u001b[0m \u001b[0mreferences\u001b[0m \u001b[0mto\u001b[0m \u001b[0myielded\u001b[0m \u001b[0mobjects\u001b[0m\u001b[1;33m.\u001b[0m\u001b[1;33m\u001b[0m\u001b[1;33m\u001b[0m\u001b[0m\n\u001b[0;32m    365\u001b[0m     \"\"\"\n\u001b[1;32m--> 366\u001b[1;33m     \u001b[1;32mfor\u001b[0m \u001b[0melement\u001b[0m \u001b[1;32min\u001b[0m \u001b[0miterable\u001b[0m\u001b[1;33m:\u001b[0m\u001b[1;33m\u001b[0m\u001b[1;33m\u001b[0m\u001b[0m\n\u001b[0m\u001b[0;32m    367\u001b[0m         \u001b[0melement\u001b[0m\u001b[1;33m.\u001b[0m\u001b[0mreverse\u001b[0m\u001b[1;33m(\u001b[0m\u001b[1;33m)\u001b[0m\u001b[1;33m\u001b[0m\u001b[1;33m\u001b[0m\u001b[0m\n\u001b[0;32m    368\u001b[0m         \u001b[1;32mwhile\u001b[0m \u001b[0melement\u001b[0m\u001b[1;33m:\u001b[0m\u001b[1;33m\u001b[0m\u001b[1;33m\u001b[0m\u001b[0m\n",
      "\u001b[1;32mc:\\Users\\dltns\\anaconda3\\envs\\local\\lib\\concurrent\\futures\\_base.py\u001b[0m in \u001b[0;36mresult_iterator\u001b[1;34m()\u001b[0m\n\u001b[0;32m    584\u001b[0m                     \u001b[1;31m# Careful not to keep a reference to the popped future\u001b[0m\u001b[1;33m\u001b[0m\u001b[1;33m\u001b[0m\u001b[1;33m\u001b[0m\u001b[0m\n\u001b[0;32m    585\u001b[0m                     \u001b[1;32mif\u001b[0m \u001b[0mtimeout\u001b[0m \u001b[1;32mis\u001b[0m \u001b[1;32mNone\u001b[0m\u001b[1;33m:\u001b[0m\u001b[1;33m\u001b[0m\u001b[1;33m\u001b[0m\u001b[0m\n\u001b[1;32m--> 586\u001b[1;33m                         \u001b[1;32myield\u001b[0m \u001b[0mfs\u001b[0m\u001b[1;33m.\u001b[0m\u001b[0mpop\u001b[0m\u001b[1;33m(\u001b[0m\u001b[1;33m)\u001b[0m\u001b[1;33m.\u001b[0m\u001b[0mresult\u001b[0m\u001b[1;33m(\u001b[0m\u001b[1;33m)\u001b[0m\u001b[1;33m\u001b[0m\u001b[1;33m\u001b[0m\u001b[0m\n\u001b[0m\u001b[0;32m    587\u001b[0m                     \u001b[1;32melse\u001b[0m\u001b[1;33m:\u001b[0m\u001b[1;33m\u001b[0m\u001b[1;33m\u001b[0m\u001b[0m\n\u001b[0;32m    588\u001b[0m                         \u001b[1;32myield\u001b[0m \u001b[0mfs\u001b[0m\u001b[1;33m.\u001b[0m\u001b[0mpop\u001b[0m\u001b[1;33m(\u001b[0m\u001b[1;33m)\u001b[0m\u001b[1;33m.\u001b[0m\u001b[0mresult\u001b[0m\u001b[1;33m(\u001b[0m\u001b[0mend_time\u001b[0m \u001b[1;33m-\u001b[0m \u001b[0mtime\u001b[0m\u001b[1;33m.\u001b[0m\u001b[0mmonotonic\u001b[0m\u001b[1;33m(\u001b[0m\u001b[1;33m)\u001b[0m\u001b[1;33m)\u001b[0m\u001b[1;33m\u001b[0m\u001b[1;33m\u001b[0m\u001b[0m\n",
      "\u001b[1;32mc:\\Users\\dltns\\anaconda3\\envs\\local\\lib\\concurrent\\futures\\_base.py\u001b[0m in \u001b[0;36mresult\u001b[1;34m(self, timeout)\u001b[0m\n\u001b[0;32m    430\u001b[0m                 \u001b[1;32mraise\u001b[0m \u001b[0mCancelledError\u001b[0m\u001b[1;33m(\u001b[0m\u001b[1;33m)\u001b[0m\u001b[1;33m\u001b[0m\u001b[1;33m\u001b[0m\u001b[0m\n\u001b[0;32m    431\u001b[0m             \u001b[1;32melif\u001b[0m \u001b[0mself\u001b[0m\u001b[1;33m.\u001b[0m\u001b[0m_state\u001b[0m \u001b[1;33m==\u001b[0m \u001b[0mFINISHED\u001b[0m\u001b[1;33m:\u001b[0m\u001b[1;33m\u001b[0m\u001b[1;33m\u001b[0m\u001b[0m\n\u001b[1;32m--> 432\u001b[1;33m                 \u001b[1;32mreturn\u001b[0m \u001b[0mself\u001b[0m\u001b[1;33m.\u001b[0m\u001b[0m__get_result\u001b[0m\u001b[1;33m(\u001b[0m\u001b[1;33m)\u001b[0m\u001b[1;33m\u001b[0m\u001b[1;33m\u001b[0m\u001b[0m\n\u001b[0m\u001b[0;32m    433\u001b[0m             \u001b[1;32melse\u001b[0m\u001b[1;33m:\u001b[0m\u001b[1;33m\u001b[0m\u001b[1;33m\u001b[0m\u001b[0m\n\u001b[0;32m    434\u001b[0m                 \u001b[1;32mraise\u001b[0m \u001b[0mTimeoutError\u001b[0m\u001b[1;33m(\u001b[0m\u001b[1;33m)\u001b[0m\u001b[1;33m\u001b[0m\u001b[1;33m\u001b[0m\u001b[0m\n",
      "\u001b[1;32mc:\\Users\\dltns\\anaconda3\\envs\\local\\lib\\concurrent\\futures\\_base.py\u001b[0m in \u001b[0;36m__get_result\u001b[1;34m(self)\u001b[0m\n\u001b[0;32m    382\u001b[0m     \u001b[1;32mdef\u001b[0m \u001b[0m__get_result\u001b[0m\u001b[1;33m(\u001b[0m\u001b[0mself\u001b[0m\u001b[1;33m)\u001b[0m\u001b[1;33m:\u001b[0m\u001b[1;33m\u001b[0m\u001b[1;33m\u001b[0m\u001b[0m\n\u001b[0;32m    383\u001b[0m         \u001b[1;32mif\u001b[0m \u001b[0mself\u001b[0m\u001b[1;33m.\u001b[0m\u001b[0m_exception\u001b[0m\u001b[1;33m:\u001b[0m\u001b[1;33m\u001b[0m\u001b[1;33m\u001b[0m\u001b[0m\n\u001b[1;32m--> 384\u001b[1;33m             \u001b[1;32mraise\u001b[0m \u001b[0mself\u001b[0m\u001b[1;33m.\u001b[0m\u001b[0m_exception\u001b[0m\u001b[1;33m\u001b[0m\u001b[1;33m\u001b[0m\u001b[0m\n\u001b[0m\u001b[0;32m    385\u001b[0m         \u001b[1;32melse\u001b[0m\u001b[1;33m:\u001b[0m\u001b[1;33m\u001b[0m\u001b[1;33m\u001b[0m\u001b[0m\n\u001b[0;32m    386\u001b[0m             \u001b[1;32mreturn\u001b[0m \u001b[0mself\u001b[0m\u001b[1;33m.\u001b[0m\u001b[0m_result\u001b[0m\u001b[1;33m\u001b[0m\u001b[1;33m\u001b[0m\u001b[0m\n",
      "\u001b[1;31mBrokenProcessPool\u001b[0m: A process in the process pool was terminated abruptly while the future was running or pending."
     ]
    }
   ],
   "source": [
    "\n",
    "    \n",
    "\n",
    "# 로그 작성용 난수 생성\n",
    "rand_num = random.randint(0, 100)\n",
    "\n",
    "# 시작시간 설정\n",
    "start_current_datetime = datetime.now()     # 현재 datetime\n",
    "print(f\"{rand_num} 크롤링 시작 : {start_current_datetime}\")\n",
    "\n",
    "thirty_minutes_ago = start_current_datetime - timedelta(minutes=30)   # 30분을 뺀 datetime\n",
    "\n",
    "\n",
    "# 크롤링 시작\n",
    "press_list = ['032', '005', '020', '021', '081', '022', '023', '025', '028', '469'] # 종합 언론사 리스트\n",
    "\n",
    "# 윈도우에서 ProcessPoolExecutor을 사용하려면 아래의 3줄을 추가해야함\n",
    "# 리눅스에서는 아래의 3줄을 없앤 뒤 들여쓰기 한칸 빼고 실행하기\n",
    "from multiprocessing import freeze_support\n",
    "if __name__ == \"__main__\":\n",
    "    freeze_support()\n",
    "\n",
    "    with ProcessPoolExecutor(max_workers=len(press_list)) as executor:\n",
    "        results = list(executor.map(crawling, press_list, [thirty_minutes_ago]*len(press_list)))\n",
    "\n",
    "    # 모든 크롤링 결과를 하나의 데이터프레임으로 합치기\n",
    "    result_df = pd.concat(results, ignore_index=True)\n",
    "\n",
    "    # 인덱스 재정렬\n",
    "    result_df = result_df.reset_index(drop=True)\n",
    "\n",
    "    # press 필드 한글 변경\n",
    "    press_map = {'032': '경향신문', '005': '국민일보', '020': '동아일보', '021': '문화일보', \n",
    "                 '081': '서울신문', '022': '세계일보', '023': '조선일보', '025': '중앙일보',\n",
    "                 '028': '한겨레', '469': '한국일보'}\n",
    "    result_df.press = result_df.press.map(press_map)\n",
    "\n",
    "    print(rand_num, '기사 개수 :', len(result_df))\n",
    "    \n",
    "    # # 데이터프레임을 json 파일로 저장하기\n",
    "    # result_df.to_json(f'./result/crawling_{start_current_datetime.strftime(\"%Y-%m-%d_%H-%M\")}.json', orient='records', force_ascii=False, indent=4)\n",
    "    # 데이터프레임을 csv 파일로 저장하기\n",
    "    result_df.to_csv(f'{start_current_datetime.strftime(\"%Y-%m-%d_%H-%M\")}.csv', index=False)\n",
    "    \n",
    "    # # db 저장\n",
    "    # result_df_total.to_sql('news_temporalyarticle', con, if_exists='append', index=False)\n",
    "\n",
    "    # 크롤링 끝 \n",
    "    end_current_datetime = datetime.now()\n",
    "    print(f\"{rand_num} 크롤링 끝 : {end_current_datetime}\")\n",
    "    print(f\"{rand_num} 걸린시간 : {end_current_datetime - start_current_datetime}\")"
   ]
  },
  {
   "cell_type": "code",
   "execution_count": null,
   "metadata": {},
   "outputs": [],
   "source": []
  }
 ],
 "metadata": {
  "kernelspec": {
   "display_name": "local",
   "language": "python",
   "name": "python3"
  },
  "language_info": {
   "codemirror_mode": {
    "name": "ipython",
    "version": 3
   },
   "file_extension": ".py",
   "mimetype": "text/x-python",
   "name": "python",
   "nbconvert_exporter": "python",
   "pygments_lexer": "ipython3",
   "version": "3.6.13"
  }
 },
 "nbformat": 4,
 "nbformat_minor": 2
}
